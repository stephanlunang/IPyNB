{
 "cells": [
  {
   "cell_type": "code",
   "execution_count": 2,
   "metadata": {
    "collapsed": false
   },
   "outputs": [
    {
     "name": "stdout",
     "output_type": "stream",
     "text": [
      "Encode or Decode: encode\n",
      "Enter a string to encode: asda1\n",
      "[1, 19, 4, 1, -47]\n"
     ]
    }
   ],
   "source": [
    "#Vigenere Cipher\n",
    "#ord() goes to num\n",
    "def ord2(string):\n",
    "    return ord(string) - 96\n",
    "def en_de_ciper():\n",
    "    inp = str(raw_input(\"Encode or Decode: \"))\n",
    "    if inp.lower() == 'encode':\n",
    "        s = map(ord2, str(raw_input(\"Enter a string to encode: \")))\n",
    "        keyword = str(raw_input(\"Enter your keyword: \"))\n",
    "        #repeat the key for length of s and then shift by that much and translate back\n",
    "        print s\n",
    "    elif inp.lower() == 'decode':\n",
    "        s = str(raw_input(\"Enter a string to decode: \"))\n",
    "        keyword = str(raw_input(\"Enter your keyword: \"))\n",
    "    else:\n",
    "        print 'Invalid. Please re-enter command.'\n",
    "        en_de_ciper()\n",
    "en_de_ciper()"
   ]
  },
  {
   "cell_type": "code",
   "execution_count": 19,
   "metadata": {
    "collapsed": false
   },
   "outputs": [
    {
     "name": "stdout",
     "output_type": "stream",
     "text": [
      "Encode or Decode: decode\n",
      "String: Niwwmge\n",
      "['Ojxxnhf', 'Pkyyoig', 'Qlzzpjh', 'Rm{{qki', 'Sn\\x02\\x02rlj', 'To\\x03\\x03smk', 'Up\\x04\\x04tnl', 'Vq\\x05\\x05uom', 'Wr\\x06\\x06vpn', 'Xs\\x07\\x07wqo', 'Yt\\x08\\x08xrp', 'Zu\\t\\tysq', '[v\\n\\nztr', '\\\\w\\x0b\\x0b{us', ']x\\x0c\\x0c\\x02vt', '^y\\r\\r\\x03wu', '_z\\x0e\\x0e\\x04xv', '`{\\x0f\\x0f\\x05yw', 'a\\x02\\x10\\x10\\x06zx', 'b\\x03\\x11\\x11\\x07{y', 'c\\x04\\x12\\x12\\x08\\x02z', 'd\\x05\\x13\\x13\\t\\x03{', 'e\\x06\\x14\\x14\\n\\x04\\x02', 'f\\x07\\x15\\x15\\x0b\\x05\\x03', 'g\\x08\\x16\\x16\\x0c\\x06\\x04']\n"
     ]
    }
   ],
   "source": [
    "#Caesar Cipher\n",
    "def shift():\n",
    "    inp = str(raw_input(\"Encode or Decode: \"))\n",
    "    if inp.lower() == 'encode':\n",
    "        s = map(ord, raw_input(\"String: \"))\n",
    "        n = int(raw_input(\"Key: \"))\n",
    "        for i in range(len(s)):\n",
    "            s[i] = chr(s[i] + n)\n",
    "        x = \"\".join(s)\n",
    "        print x\n",
    "    elif inp.lower() == 'decode':\n",
    "        pos = []\n",
    "        s = map(ord, raw_input(\"String: \"))\n",
    "        for i in range(1,26):\n",
    "            a = []\n",
    "            for j in range(len(s)):\n",
    "                temp = s[j] + i\n",
    "                if temp > 123: temp -= 122\n",
    "                a.append(chr(temp))\n",
    "            pos.append(\"\".join(a))\n",
    "        print pos\n",
    "shift()\n",
    "\n"
   ]
  },
  {
   "cell_type": "code",
   "execution_count": 16,
   "metadata": {
    "collapsed": false
   },
   "outputs": [
    {
     "name": "stdout",
     "output_type": "stream",
     "text": [
      "122\n"
     ]
    }
   ],
   "source": [
    "print ord('z')"
   ]
  },
  {
   "cell_type": "code",
   "execution_count": null,
   "metadata": {
    "collapsed": true
   },
   "outputs": [],
   "source": [
    "import enchant\n",
    "d = enchant.Dict(\"en_US\")\n",
    "d.check(\"Hello\") #True\n",
    ">>> d.check(\"Helo\") #False"
   ]
  }
 ],
 "metadata": {
  "kernelspec": {
   "display_name": "Python 2",
   "language": "python",
   "name": "python2"
  },
  "language_info": {
   "codemirror_mode": {
    "name": "ipython",
    "version": 2
   },
   "file_extension": ".py",
   "mimetype": "text/x-python",
   "name": "python",
   "nbconvert_exporter": "python",
   "pygments_lexer": "ipython2",
   "version": "2.7.10"
  }
 },
 "nbformat": 4,
 "nbformat_minor": 0
}
