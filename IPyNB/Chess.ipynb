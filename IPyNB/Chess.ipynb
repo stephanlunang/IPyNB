{
 "cells": [
  {
   "cell_type": "code",
   "execution_count": 1,
   "metadata": {
    "collapsed": true
   },
   "outputs": [],
   "source": [
    "from numpy import zeros"
   ]
  },
  {
   "cell_type": "code",
   "execution_count": 51,
   "metadata": {
    "collapsed": false
   },
   "outputs": [],
   "source": [
    "def start_game(starting_color):\n",
    "    board = [[' e ', ' e ', ' e ', ' e ', ' e ', ' e ', ' e ', ' e '], [' e ', ' e ', ' e ', ' e ', ' e ', ' e ', ' e ', ' e '], [' e ', ' e ', ' e ', ' e ', ' e ', ' e ', ' e ', ' e '], [' e ', ' e ', ' e ', ' e ', ' e ', ' e ', ' e ', ' e '], [' e ', ' e ', ' e ', ' e ', ' e ', ' e ', ' e ', ' e '], [' e ', ' e ', ' e ', ' e ', ' e ', ' e ', ' e ', ' e '], [' e ', ' e ', ' e ', ' e ', ' e ', ' e ', 'e ', ' e '], [' e ', ' e ', ' e ', ' e ', ' e ', ' e ', ' e ', ' e ']]\n",
    "    if str(starting_color) == 'black':\n",
    "        board[0][3], board[-1][4] = 'w_q', 'b_q'     \n",
    "        board[0][4], board[-1][3] = 'w_k', 'b_k'     \n",
    "        for i in range(8):\n",
    "            board[1][i], board[-2][i] = 'w_p', 'b_p'\n",
    "        board[0][0], board[0][-1], board[-1][0], board[-1][-1] = 'w_r', 'w_r', 'b_r', 'b_r'\n",
    "        board[0][1], board[0][-2], board[-1][1], board[-1][-2] = 'w_k', 'w_k', 'b_k', 'b_k'\n",
    "        board[0][2], board[0][-3], board[-1][2], board[-1][-3] = 'w_b', 'w_b', 'b_b', 'b_b'\n",
    "    elif str(starting_color) == 'white':\n",
    "        board[0][4], board[-1][3] = 'b_q', 'w_q'     \n",
    "        board[0][3], board[-1][4] = 'b_k', 'w_k'     \n",
    "        for i in range(8):\n",
    "            board[1][i], board[-2][i] = 'b_p', 'w_p'\n",
    "        board[0][0], board[0][-1], board[-1][0], board[-1][-1] = 'b_r', 'b_r', 'w_r', 'w_r'\n",
    "        board[0][1], board[0][-2], board[-1][1], board[-1][-2] = 'b_k', 'b_k', 'w_k', 'w_k'\n",
    "        board[0][2], board[0][-3], board[-1][2], board[-1][-3] = 'b_b', 'b_b', 'w_b', 'w_b'\n",
    "    return board\n",
    "    #for i in board: print i #displayes board\n",
    "board = start_game('black')"
   ]
  },
  {
   "cell_type": "code",
   "execution_count": 53,
   "metadata": {
    "collapsed": false
   },
   "outputs": [
    {
     "name": "stdout",
     "output_type": "stream",
     "text": [
      "['w_r', 'w_k', 'w_b', 'w_q', 'w_k', 'w_b', 'w_k', 'w_r']\n",
      "['w_p', 'w_p', 'w_p', 'w_p', 'w_p', 'w_p', 'w_p', 'w_p']\n",
      "[' e ', ' e ', ' e ', ' e ', ' e ', ' e ', ' e ', ' e ']\n",
      "[' e ', ' e ', ' e ', ' e ', ' e ', ' e ', ' e ', ' e ']\n",
      "[' e ', ' e ', ' e ', ' e ', ' e ', ' e ', ' e ', ' e ']\n",
      "[' e ', ' e ', ' e ', ' e ', ' e ', ' e ', ' e ', ' e ']\n",
      "['b_p', 'b_p', 'b_p', 'b_p', 'b_p', 'b_p', 'b_p', 'b_p']\n",
      "['b_r', 'b_k', 'b_b', 'b_k', 'b_q', 'b_b', 'b_k', 'b_r']\n"
     ]
    }
   ],
   "source": [
    "for i in board:\n",
    "    print i"
   ]
  },
  {
   "cell_type": "code",
   "execution_count": 57,
   "metadata": {
    "collapsed": false
   },
   "outputs": [
    {
     "name": "stdout",
     "output_type": "stream",
     "text": [
      "b2\n"
     ]
    }
   ],
   "source": [
    "def coord_trans(x, y):\n",
    "    if x == 0: return 'a' + str((y+1))\n",
    "    if x == 1: return 'b' + str((y+1))\n",
    "    if x == 2: return 'c' + str((y+1))\n",
    "    if x == 3: return 'd' + str((y+1))\n",
    "    if x == 4: return 'e' + str((y+1))\n",
    "    if x == 5: return 'f' + str((y+1))\n",
    "    if x == 6: return 'g' + str((y+1))\n",
    "    if x == 7: return 'h' + str((y+1))\n",
    "print coord_trans(1,1)\n",
    "\n",
    "\n"
   ]
  },
  {
   "cell_type": "code",
   "execution_count": 61,
   "metadata": {
    "collapsed": false
   },
   "outputs": [
    {
     "name": "stdout",
     "output_type": "stream",
     "text": [
      "Pawn on  g1 can move forward one place to  f1\n",
      "Pawn on  g1 can move forward tw0 places to e1\n",
      "Pawn on  g2 can move forward one place to  f2\n",
      "Pawn on  g2 can move forward tw0 places to e2\n",
      "Pawn on  g3 can move forward one place to  f3\n",
      "Pawn on  g3 can move forward tw0 places to e3\n",
      "Pawn on  g4 can move forward one place to  f4\n",
      "Pawn on  g4 can move forward tw0 places to e4\n",
      "Pawn on  g5 can move forward one place to  f5\n",
      "Pawn on  g5 can move forward tw0 places to e5\n",
      "Pawn on  g6 can move forward one place to  f6\n",
      "Pawn on  g6 can move forward tw0 places to e6\n",
      "Pawn on  g7 can move forward one place to  f7\n",
      "Pawn on  g7 can move forward tw0 places to e7\n"
     ]
    },
    {
     "ename": "IndexError",
     "evalue": "list index out of range",
     "output_type": "error",
     "traceback": [
      "\u001b[1;31m---------------------------------------------------------------------------\u001b[0m",
      "\u001b[1;31mIndexError\u001b[0m                                Traceback (most recent call last)",
      "\u001b[1;32m<ipython-input-61-f5b54a0c7a4a>\u001b[0m in \u001b[0;36m<module>\u001b[1;34m()\u001b[0m\n\u001b[0;32m     23\u001b[0m                 \u001b[1;31m#check if space is empty\u001b[0m\u001b[1;33m\u001b[0m\u001b[1;33m\u001b[0m\u001b[0m\n\u001b[0;32m     24\u001b[0m                 \u001b[1;31m#check if diagonal is occupied\u001b[0m\u001b[1;33m\u001b[0m\u001b[1;33m\u001b[0m\u001b[0m\n\u001b[1;32m---> 25\u001b[1;33m \u001b[0mpawn_possibilities\u001b[0m\u001b[1;33m(\u001b[0m\u001b[0mboard\u001b[0m\u001b[1;33m,\u001b[0m \u001b[1;34m'b'\u001b[0m\u001b[1;33m)\u001b[0m\u001b[1;33m\u001b[0m\u001b[0m\n\u001b[0m\u001b[0;32m     26\u001b[0m \u001b[1;33m\u001b[0m\u001b[0m\n",
      "\u001b[1;32m<ipython-input-61-f5b54a0c7a4a>\u001b[0m in \u001b[0;36mpawn_possibilities\u001b[1;34m(board, color)\u001b[0m\n\u001b[0;32m      8\u001b[0m             \u001b[1;32mif\u001b[0m \u001b[0mboard\u001b[0m\u001b[1;33m[\u001b[0m\u001b[0mi\u001b[0m\u001b[1;33m]\u001b[0m\u001b[1;33m[\u001b[0m\u001b[0mj\u001b[0m\u001b[1;33m]\u001b[0m \u001b[1;33m==\u001b[0m \u001b[0mpawns\u001b[0m\u001b[1;33m:\u001b[0m\u001b[1;33m\u001b[0m\u001b[0m\n\u001b[0;32m      9\u001b[0m                 \u001b[1;31m#print i, j\u001b[0m\u001b[1;33m\u001b[0m\u001b[1;33m\u001b[0m\u001b[0m\n\u001b[1;32m---> 10\u001b[1;33m                 \u001b[1;32mif\u001b[0m \u001b[0mboard\u001b[0m\u001b[1;33m[\u001b[0m\u001b[0mi\u001b[0m\u001b[1;33m-\u001b[0m\u001b[1;36m1\u001b[0m\u001b[1;33m]\u001b[0m\u001b[1;33m[\u001b[0m\u001b[0mj\u001b[0m\u001b[1;33m+\u001b[0m\u001b[1;36m1\u001b[0m\u001b[1;33m]\u001b[0m \u001b[1;33m!=\u001b[0m \u001b[1;34m' e '\u001b[0m\u001b[1;33m:\u001b[0m\u001b[1;33m\u001b[0m\u001b[0m\n\u001b[0m\u001b[0;32m     11\u001b[0m                     \u001b[1;32mprint\u001b[0m \u001b[1;34m'Can take'\u001b[0m\u001b[1;33m,\u001b[0m \u001b[0mcoord_trans\u001b[0m\u001b[1;33m(\u001b[0m\u001b[1;33m(\u001b[0m\u001b[0mi\u001b[0m\u001b[1;33m+\u001b[0m\u001b[1;36m1\u001b[0m\u001b[1;33m)\u001b[0m\u001b[1;33m,\u001b[0m \u001b[1;33m(\u001b[0m\u001b[0mj\u001b[0m\u001b[1;33m+\u001b[0m\u001b[1;36m1\u001b[0m\u001b[1;33m)\u001b[0m\u001b[1;33m)\u001b[0m\u001b[1;33m\u001b[0m\u001b[0m\n\u001b[0;32m     12\u001b[0m                 \u001b[1;32mif\u001b[0m \u001b[0mboard\u001b[0m\u001b[1;33m[\u001b[0m\u001b[0mi\u001b[0m\u001b[1;33m-\u001b[0m\u001b[1;36m1\u001b[0m\u001b[1;33m]\u001b[0m\u001b[1;33m[\u001b[0m\u001b[0mj\u001b[0m\u001b[1;33m-\u001b[0m\u001b[1;36m1\u001b[0m\u001b[1;33m]\u001b[0m \u001b[1;33m!=\u001b[0m \u001b[1;34m' e '\u001b[0m\u001b[1;33m:\u001b[0m\u001b[1;33m\u001b[0m\u001b[0m\n",
      "\u001b[1;31mIndexError\u001b[0m: list index out of range"
     ]
    }
   ],
   "source": [
    "#piece rules\n",
    "def pawn_possibilities(board, color):\n",
    "    pawns = str(color) + '_p'\n",
    "    #print pawns\n",
    "    for i in range(0,8):\n",
    "        for j in range(0,8):\n",
    "            #print board[i][j]\n",
    "            if board[i][j] == pawns:\n",
    "                #print i, j\n",
    "                if board[i-1][j+1] != ' e ':\n",
    "                    print 'Can take', coord_trans((i+1), (j+1))\n",
    "                if board[i-1][j-1] != ' e ':\n",
    "                    print 'Can take', coord_trans((i+1), (j-1))\n",
    "                if i == 6:                                #check if on 6 row\n",
    "                    if board[i-1][j] == ' e ':\n",
    "                        print 'Pawn on ', coord_trans(i,j), 'can move forward one place to ', coord_trans((i-1), j)\n",
    "                    if board[i-2][j] == ' e ':\n",
    "                        print 'Pawn on ', coord_trans(i,j), 'can move forward tw0 places to', coord_trans((i-2), j)\n",
    "                else:\n",
    "                    if board[i-1][j] == ' e ':\n",
    "                        print 'Pawn on ', coord_trans(i, j), 'can move forward one place to ', coord_trans((i-1), j)\n",
    "\n",
    "                #check if space is empty\n",
    "                #check if diagonal is occupied\n",
    "pawn_possibilities(board, 'b')\n",
    "        "
   ]
  },
  {
   "cell_type": "code",
   "execution_count": null,
   "metadata": {
    "collapsed": false
   },
   "outputs": [],
   "source": []
  },
  {
   "cell_type": "code",
   "execution_count": null,
   "metadata": {
    "collapsed": true
   },
   "outputs": [],
   "source": []
  }
 ],
 "metadata": {
  "kernelspec": {
   "display_name": "Python 2",
   "language": "python",
   "name": "python2"
  },
  "language_info": {
   "codemirror_mode": {
    "name": "ipython",
    "version": 2
   },
   "file_extension": ".py",
   "mimetype": "text/x-python",
   "name": "python",
   "nbconvert_exporter": "python",
   "pygments_lexer": "ipython2",
   "version": "2.7.10"
  }
 },
 "nbformat": 4,
 "nbformat_minor": 0
}
