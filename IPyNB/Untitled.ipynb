{
 "cells": [
  {
   "cell_type": "code",
   "execution_count": 45,
   "metadata": {
    "collapsed": false
   },
   "outputs": [
    {
     "name": "stdout",
     "output_type": "stream",
     "text": [
      "7053140\n",
      "880257.378281\n",
      "5895.01216106\n"
     ]
    }
   ],
   "source": [
    "#Spire\n",
    "from math import pi, sqrt\n",
    "Re = 6378140 #m\n",
    "Rp = 600000 + Re #m\n",
    "Ra =750000 + Re #m\n",
    "gm = 3.986005*(10**14) # m^3/s^2\n",
    "Dr = 100 #kB/s\n",
    "a = (Rp + Ra)/2\n",
    "print a\n",
    "print a**3/gm\n",
    "T = 2 * pi * (sqrt((a**3)/gm)) #s\n",
    "print T"
   ]
  },
  {
   "cell_type": "code",
   "execution_count": 48,
   "metadata": {
    "collapsed": false
   },
   "outputs": [
    {
     "name": "stdout",
     "output_type": "stream",
     "text": [
      "2.15839368136\n",
      "2.22688061136\n",
      "0.656546708988\n",
      "4.45376122273\n"
     ]
    }
   ],
   "source": [
    "print T * Dr/273120.34\n",
    "print T * Dr/264720.62\n",
    "print T * Dr/897881.61\n",
    "print T * Dr/132360.31"
   ]
  },
  {
   "cell_type": "code",
   "execution_count": 42,
   "metadata": {
    "collapsed": false
   },
   "outputs": [
    {
     "name": "stdout",
     "output_type": "stream",
     "text": [
      "1\n",
      "12 4 4\n",
      "3\n"
     ]
    }
   ],
   "source": [
    "#Chocolates\n",
    "T = int(raw_input())\n",
    "for i in range(T):\n",
    "    inp = list(map(int, raw_input().split(\" \"))) #N, C, M\n",
    "    chocolates = inp[0]/inp[1]\n",
    "    total = chocolates + (chocolates/inp[2]) \n",
    "    if (chocolates/inp[2]) > 0:\n",
    "        total = total + ((chocolates/inp[2]) + (chocolates%inp[2]))/inp[2]    \n",
    "    print total"
   ]
  },
  {
   "cell_type": "code",
   "execution_count": 10,
   "metadata": {
    "collapsed": false
   },
   "outputs": [
    {
     "name": "stdout",
     "output_type": "stream",
     "text": [
      "2\n",
      "3 9\n",
      "2\n",
      "17 24\n",
      "0\n"
     ]
    }
   ],
   "source": [
    "#square integer counter\n",
    "from math import sqrt\n",
    "\n",
    "T = int(raw_input())\n",
    "for _ in range(T):\n",
    "    inp = list(map(int, raw_input().split(\" \")))\n",
    "    perfsq = 0\n",
    "    for i in range (inp[0], (inp[1] + 1)):\n",
    "        if ((int(sqrt(i)))**2 == i):\n",
    "            perfsq = perfsq + 1\n",
    "    print perfsq\n",
    "        "
   ]
  },
  {
   "cell_type": "code",
   "execution_count": 12,
   "metadata": {
    "collapsed": false
   },
   "outputs": [
    {
     "name": "stdout",
     "output_type": "stream",
     "text": [
      "2\n",
      "3 9\n",
      "17 24\n",
      "3 9\n"
     ]
    }
   ],
   "source": [
    "_arr_cnt = 0\n",
    "_arr_cnt = int(raw_input())\n",
    "_arr_i=0\n",
    "_arr = []\n",
    "while _arr_i < _arr_cnt:\n",
    "    _arr_item = raw_input()\n",
    "    _arr.append(_arr_item)\n",
    "    _arr_i+=1\n",
    "    \n",
    "print _arr[0]"
   ]
  },
  {
   "cell_type": "code",
   "execution_count": 34,
   "metadata": {
    "collapsed": false
   },
   "outputs": [
    {
     "name": "stdout",
     "output_type": "stream",
     "text": [
      "2\n",
      "3\n"
     ]
    }
   ],
   "source": [
    "print 5/2\n",
    "print 3%4"
   ]
  },
  {
   "cell_type": "code",
   "execution_count": null,
   "metadata": {
    "collapsed": true
   },
   "outputs": [],
   "source": []
  }
 ],
 "metadata": {
  "kernelspec": {
   "display_name": "Python 2",
   "language": "python",
   "name": "python2"
  },
  "language_info": {
   "codemirror_mode": {
    "name": "ipython",
    "version": 2
   },
   "file_extension": ".py",
   "mimetype": "text/x-python",
   "name": "python",
   "nbconvert_exporter": "python",
   "pygments_lexer": "ipython2",
   "version": "2.7.10"
  }
 },
 "nbformat": 4,
 "nbformat_minor": 0
}
