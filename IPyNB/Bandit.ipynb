{
 "cells": [
  {
   "cell_type": "code",
   "execution_count": 117,
   "metadata": {
    "collapsed": false
   },
   "outputs": [],
   "source": [
    "from geopy.geocoders import Nominatim\n",
    "from geopy.distance import vincenty\n",
    "import sys\n",
    "#from itertools import count\n",
    "#Assuming class\n",
    "'''\n",
    "Model class\n",
    "class name:\n",
    "    name = ''\n",
    "    \n",
    "    #Hard Parameters\n",
    "    INP = Instrument Played\n",
    "    INLF = Instrument Looking For [> 1]\n",
    "    TOM = List of all music types open to playing [match must be > 1]\n",
    "    Location = Location of user\n",
    "    Dist_WTT = Distance willing to travel [in miles]\n",
    "    Drugs = [0 = No drugs at all, 1 = Pot ok, 2 = Harder drugs ok]\n",
    "    DYD = Do you drink? Boolean, Yes [1] or No [0]\n",
    "    WYWTD = What you want to do [0 = Create Music, 1 = Play Covers, 2 = A bit of both]\n",
    "    \n",
    "    #Soft Parameters\n",
    "    AIFF = Artists Imported from Facebook [Requires development]\n",
    "    MIA = Most influential Artists [Max 5, weight 4 (+1 from AIFF = 5)]\n",
    "'''\n",
    "\n",
    "class ID_000000000:\n",
    "    name = 'Stephan Andrew Ng'\n",
    "    INP = ['Rhythm Guitar', 'Lead Vocals', 'Lead Guitar']\n",
    "    INLF = ['Drums', 'Bass', 'Synth', 'Backup Vocals']\n",
    "    TOM = ['Indie rock', 'Rock', 'Electronic']\n",
    "    Location = [37.207988, -121.826230]\n",
    "    Dist_WTT = 100\n",
    "    Drugs = 1\n",
    "    DYD = True\n",
    "    WYWTD = 2\n",
    "    AIFF = ['Beruit', 'Artic Monkeys', 'Phoenix', 'LCD Soundsystem', 'Stromae', 'Blink 182']\n",
    "    MIA = ['Beruit', 'LCD Soundsystem']\n",
    "#    _ids = count(0)\n",
    "#    def __init__(self):\n",
    "#        self.id = self._ids.next()\n",
    "\n",
    "    \n",
    "class ID_000000001:\n",
    "    name = 'Paul Medlin'\n",
    "    INP = ['Bass']\n",
    "    INLF = ['Drums', 'Bass', 'Lead Vocals']\n",
    "    TOM = ['Metal', 'Rock']\n",
    "    Location = [37.217321, -121.842826]\n",
    "    Dist_WTT = 10\n",
    "    Drugs = 1\n",
    "    DYD = True\n",
    "    AIFF = ['Metallica', 'Artic Monkeys', 'Green Day', 'Blink 182', 'Sum 41']\n",
    "    MIA = ['Metallica', 'Green Day']\n",
    "#    _ids = count(0)\n",
    "#    def __init__(self):\n",
    "#        self.id = self._ids.next()\n",
    "\n",
    "    \n",
    "class ID_000000002:\n",
    "    name = 'Natalia Hess'\n",
    "    INP = ['Bass', 'Rhythm Guitar', 'Backup Vocals']\n",
    "    INLF = ['Drums', 'Bass', 'Synth']\n",
    "    TOM = ['Alt Rock', 'Rock', '80s Rock']\n",
    "    Location = [38.540417, -121.758978]\n",
    "    Dist_WTT = 10\n",
    "    Drugs = 2\n",
    "    DYD = True\n",
    "    AIFF = ['Metallica', 'Artic Monkeys', 'Gaslamp Anthem', 'Yellowcard', 'Muse', 'Oasis']\n",
    "    MIA = ['Oasis']\n",
    "#    _ids = count(0)\n",
    "#    def __init__(self):\n",
    "#        self.id = self._ids.next()\n",
    "    \n",
    "class ID_000000003:\n",
    "    name = 'Lalala'\n",
    "    members = ['John', 'Joan', 'Sam']\n",
    "    INP = ['Drums', 'Rhythm Guitar', 'Lead Guitar', 'Lead Vocals']\n",
    "    INLF = ['Backup Vocals']\n",
    "    TOM = ['Rock']\n",
    "    Location = 'Berkeley, California'\n",
    "    Dist_WTT = 5\n",
    "    Drugs = 1\n",
    "    DYD = True\n",
    "    #AIFF = Join members and \n",
    "    \n",
    "current_ID = 'ID_000000000'\n",
    "numberofIDs = 4"
   ]
  },
  {
   "cell_type": "code",
   "execution_count": 118,
   "metadata": {
    "collapsed": false
   },
   "outputs": [],
   "source": [
    "#Converts regular int into an 9 digit string of same value [ex: 8 -> 000000008]\n",
    "def id_num(i): \n",
    "    num = ['0', '0', '0', '0','0', '0', '0', '0', '0']\n",
    "    id_len = len(str(i)) * -1\n",
    "    del num[id_len:]\n",
    "    num.append(str(i))\n",
    "    return \"ID_\" + \"\".join(num)\n",
    "\n",
    "#Converts city/state to log and lat\n",
    "def cnvt(loc):\n",
    "    if isinstance(loc, str):\n",
    "        geolocator = Nominatim()\n",
    "        location = geolocator.geocode(loc)\n",
    "        return [location.latitude, location.longitude] #converts city/states to log and lat\n",
    "    else: \n",
    "        return loc #Returns lat and long if already in lat and long form\n",
    "    \n",
    "#Finds distance between two long, lat sets\n",
    "def dist_dif(loc1, loc2): \n",
    "    return vincenty(cnvt(loc1), cnvt(loc2)).miles #Difference between two locations in miles\n",
    "\n",
    "#Converts string to class\n",
    "def str2Class(str):\n",
    "    return getattr(sys.modules[__name__], str)\n",
    "\n",
    "#First needed parameter (Lowers possible matches by distance) [returns a list of matches]\n",
    "#Input = (string, int)\n",
    "#Output = [str, str, etc...] \n",
    "\n",
    "#[Work needed!]: Find a way to determine number of all classes \n",
    "#and set equal to  number of users\n",
    "\n",
    "#Checks the distances of all potential matches and creates a list fitting those\n",
    "#parameters\n",
    "def DistanceMatches (current_profile, num_users):              \n",
    "    dist_matches = []             #Creates array used to store matches\n",
    "    for i in range(0, num_users):        #Increments through all user ID numbers\n",
    "        comp_str = id_num(i)\n",
    "        comp = str2Class(id_num(i))      #Creates a string with full class name\n",
    "        current_pro = str2Class(current_profile)\n",
    "        dist = dist_dif(cnvt(current_pro.Location), cnvt(comp.Location)) \n",
    "        #print dist, '\\t', comp_str, '\\t', current_pro.Dist_WTT, '\\t', comp.Dist_WTT\n",
    "        '''Converts both to long and lat if needed then determines difference in distance'''\n",
    "        if float(dist) < current_pro.Dist_WTT and float(dist) < comp.Dist_WTT:             #If both within alloted distance\n",
    "            dist_matches.append(comp_str)\n",
    "            #print dist_matches, comp_str\n",
    "    return dist_matches #List of matches\n",
    "\n",
    "\n",
    "#After distance matches, deletes your own ID\n",
    "def Forget_yourself(current_profile, dist_matches):\n",
    "    close_matches = []\n",
    "    for i in dist_matches:\n",
    "        if current_profile != i:\n",
    "            close_matches.append(i)\n",
    "    return close_matches"
   ]
  },
  {
   "cell_type": "code",
   "execution_count": 119,
   "metadata": {
    "collapsed": false
   },
   "outputs": [
    {
     "name": "stdout",
     "output_type": "stream",
     "text": [
      "['ID_000000001']\n"
     ]
    }
   ],
   "source": [
    "print Forget_yourself(current_ID, DistanceMatches(current_ID, numberofIDs))"
   ]
  },
  {
   "cell_type": "code",
   "execution_count": null,
   "metadata": {
    "collapsed": false
   },
   "outputs": [],
   "source": []
  },
  {
   "cell_type": "code",
   "execution_count": null,
   "metadata": {
    "collapsed": false
   },
   "outputs": [],
   "source": []
  },
  {
   "cell_type": "code",
   "execution_count": null,
   "metadata": {
    "collapsed": false
   },
   "outputs": [],
   "source": []
  },
  {
   "cell_type": "code",
   "execution_count": null,
   "metadata": {
    "collapsed": false
   },
   "outputs": [],
   "source": []
  },
  {
   "cell_type": "code",
   "execution_count": null,
   "metadata": {
    "collapsed": false
   },
   "outputs": [],
   "source": []
  },
  {
   "cell_type": "code",
   "execution_count": null,
   "metadata": {
    "collapsed": true
   },
   "outputs": [],
   "source": []
  },
  {
   "cell_type": "code",
   "execution_count": null,
   "metadata": {
    "collapsed": true
   },
   "outputs": [],
   "source": [
    "\n",
    "'''\n",
    "#Checks that both parties get instruments they are interested in playing with\n",
    "def instra_check(current_profile, dist_matches):\n",
    "    instra_match = []\n",
    "    for i in range(len(dist_matches)):\n",
    "        '''[NEEDS WORK!] Convert str to class\n",
    "        current_match = dist_matches[i]'''\n",
    "        '''Sets make it easier to '''\n",
    "        played_cp = set(current_profile.INP)\n",
    "        wanted_cp = set(current_profile.INLF)\n",
    "        played_m =  set(current_match.INP)\n",
    "        wanted_m =  set(current_match.INLF)\n",
    "        if (len(played_cp.intersection(wanted_m))) > 0 and (len(played_m.intersection(played_cp))) > 0: \n",
    "            '''Checks that both parties get instruments they are interested in playing with'''\n",
    "            instra_match.append(str(current_match))         #[NEEDS WORK!]Again with the whole class to string conversion needed ARG!\n",
    "    return instra_match\n",
    "'''"
   ]
  },
  {
   "cell_type": "code",
   "execution_count": null,
   "metadata": {
    "collapsed": true
   },
   "outputs": [],
   "source": []
  },
  {
   "cell_type": "code",
   "execution_count": null,
   "metadata": {
    "collapsed": true
   },
   "outputs": [],
   "source": []
  },
  {
   "cell_type": "code",
   "execution_count": null,
   "metadata": {
    "collapsed": true
   },
   "outputs": [],
   "source": []
  },
  {
   "cell_type": "code",
   "execution_count": null,
   "metadata": {
    "collapsed": true
   },
   "outputs": [],
   "source": []
  },
  {
   "cell_type": "code",
   "execution_count": null,
   "metadata": {
    "collapsed": true
   },
   "outputs": [],
   "source": []
  },
  {
   "cell_type": "code",
   "execution_count": null,
   "metadata": {
    "collapsed": true
   },
   "outputs": [],
   "source": []
  }
 ],
 "metadata": {
  "kernelspec": {
   "display_name": "Python 2",
   "language": "python",
   "name": "python2"
  },
  "language_info": {
   "codemirror_mode": {
    "name": "ipython",
    "version": 2
   },
   "file_extension": ".py",
   "mimetype": "text/x-python",
   "name": "python",
   "nbconvert_exporter": "python",
   "pygments_lexer": "ipython2",
   "version": "2.7.10"
  }
 },
 "nbformat": 4,
 "nbformat_minor": 0
}
