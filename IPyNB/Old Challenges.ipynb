{
 "cells": [
  {
   "cell_type": "code",
   "execution_count": 3,
   "metadata": {
    "collapsed": false
   },
   "outputs": [
    {
     "data": {
      "text/plain": [
       "'a'"
      ]
     },
     "execution_count": 3,
     "metadata": {},
     "output_type": "execute_result"
    }
   ],
   "source": []
  },
  {
   "cell_type": "code",
   "execution_count": 28,
   "metadata": {
    "collapsed": false
   },
   "outputs": [
    {
     "name": "stdout",
     "output_type": "stream",
     "text": [
      "['app', 'bar', 'foo', 'map', 'tap']\n",
      "[[97, 112, 112], [98, 97, 114], [102, 111, 111], [109, 97, 112], [116, 97, 112]]\n",
      "[['+', '='], ['-', '+'], ['+', '='], ['-', '+'], ['-', '+']]\n",
      "i  0\n",
      "j  0\n",
      "j  1\n",
      "j  2\n",
      "j  3\n",
      "j  4\n",
      "i  1\n",
      "j  0\n",
      "j  1\n",
      "j  2\n",
      "j  3\n",
      "i  2\n",
      "j  0\n",
      "j  1\n",
      "j  2\n",
      "i  3\n",
      "j  0\n",
      "j  1\n",
      "i  4\n",
      "j  0\n",
      "[['app', 'foo'], ['bar', 'map'], ['', ''], ['']]\n"
     ]
    }
   ],
   "source": [
    "#Isomorphic\n",
    "x = ['app', 'bar', 'foo', 'map', 'tap']\n",
    "print x\n",
    "# => [['app', 'foo'], ['bar']]\n",
    "nums = []; isos = []\n",
    "for i in x:\n",
    "    h = []\n",
    "    for j in i:  h.append(ord(j))\n",
    "    nums.append(h)\n",
    "print nums; reduced = []\n",
    "for i in nums:\n",
    "    h = []\n",
    "    for j in range(len(i)-1):\n",
    "        if i[j] < i[j+1]: h.append('+')\n",
    "        elif i[j] > i[j+1]: h.append('-')\n",
    "        elif i[j] == i[j+1]: h.append('=')\n",
    "    reduced.append(h)\n",
    "print reduced\n",
    "final = []\n",
    "for i in range(len(x)):\n",
    "    temp = []\n",
    "    print 'i ', i\n",
    "    for j in range(len(x)-i):\n",
    "        print 'j ', j\n",
    "        if reduced[i] == reduced[j]:\n",
    "            temp.append(x[j])\n",
    "            x[j] = ''\n",
    "    final.append(temp)\n",
    "raww = final[0:]\n",
    "print raww\n",
    "\n",
    "#reduced = []\n",
    "#for i in a:\n",
    "#    h = []\n",
    "#    for j in range(len(i)):\n",
    "#        h.append(i[j] - i[0])\n",
    "#    reduced.append(h)\n",
    "#print reduced"
   ]
  },
  {
   "cell_type": "code",
   "execution_count": 1,
   "metadata": {
    "collapsed": false
   },
   "outputs": [
    {
     "name": "stdout",
     "output_type": "stream",
     "text": [
      "Write Text: aaab\n",
      "[1, 1, 1, 2]\n"
     ]
    }
   ],
   "source": [
    "print [ord(char) - 96 for char in raw_input('Write Text: ').lower()]"
   ]
  },
  {
   "cell_type": "code",
   "execution_count": 4,
   "metadata": {
    "collapsed": false
   },
   "outputs": [
    {
     "name": "stdout",
     "output_type": "stream",
     "text": [
      "98\n"
     ]
    }
   ],
   "source": [
    "print ord('b')"
   ]
  },
  {
   "cell_type": "code",
   "execution_count": null,
   "metadata": {
    "collapsed": true
   },
   "outputs": [],
   "source": []
  },
  {
   "cell_type": "code",
   "execution_count": 7,
   "metadata": {
    "collapsed": false
   },
   "outputs": [
    {
     "name": "stdout",
     "output_type": "stream",
     "text": [
      "abc\n",
      "a\n",
      "b\n",
      "c\n",
      "ab\n",
      "ac\n",
      "bc\n",
      "abc\n"
     ]
    }
   ],
   "source": [
    "#All possible comb via deletion\n",
    "#Itertools Combinations\n",
    "from itertools import combinations\n",
    "inp = sorted(list(str(raw_input())))\n",
    "for i in range(1,len(inp)+1):\n",
    "    x = list(combinations(inp, i))\n",
    "    for j in x:  print \"\".join(j)"
   ]
  },
  {
   "cell_type": "code",
   "execution_count": null,
   "metadata": {
    "collapsed": true
   },
   "outputs": [],
   "source": []
  }
 ],
 "metadata": {
  "kernelspec": {
   "display_name": "Python 2",
   "language": "python",
   "name": "python2"
  },
  "language_info": {
   "codemirror_mode": {
    "name": "ipython",
    "version": 2
   },
   "file_extension": ".py",
   "mimetype": "text/x-python",
   "name": "python",
   "nbconvert_exporter": "python",
   "pygments_lexer": "ipython2",
   "version": "2.7.10"
  }
 },
 "nbformat": 4,
 "nbformat_minor": 0
}
