{
 "cells": [
  {
   "cell_type": "code",
   "execution_count": 5,
   "metadata": {
    "collapsed": true
   },
   "outputs": [],
   "source": [
    "#A* search (Heuristic function)\n",
    "from math import sqrt\n",
    "from numpy import zeros        "
   ]
  },
  {
   "cell_type": "code",
   "execution_count": 52,
   "metadata": {
    "collapsed": false
   },
   "outputs": [],
   "source": [
    "def heuristic(a,b, objective = [-1,-1]):\n",
    "    h = zeros((a,b))\n",
    "    for i in range(len(h[0,:])):\n",
    "        for j in range(len(h[:,0])):\n",
    "            h[j][i] = sqrt((i-objective[1])**2 + (j-objective[0])**2)\n",
    "    print h\n",
    "    return h\n",
    "\n",
    "def initialize_map(a, b, player = [0,0], objective = [-1,-1]):\n",
    "    vals = zeros((a,b))\n",
    "    vals[player[0],player[1]] = 1\n",
    "    vals[objective[0],objective[1]] = 2\n",
    "    print vals\n",
    "    return vals\n",
    "\n",
    "#def difference(a, b):\n",
    "    \n",
    "\n",
    "def possible_moves(frontier, field, explored = 0):\n",
    "    for position in frontier:\n",
    "        possibilities = []\n",
    "        x, y = position[0], position[1]\n",
    "        #checking if it falls off the map or not\n",
    "        if x-1 >= 0:                    possibilities.append([(x-1), y])  #Checks if it can move left\n",
    "        if x+1 < len(field[:,0]):       possibilities.append([(x+1), y])  #Checks if it can move right\n",
    "        if y-1 >= 0:                    possibilities.append([x, (y-1)])  #Checks if it can move up\n",
    "        if y+1 < len(field[0,:]):       possibilities.append([x, (y+1)])  #Checks if it can move down\n",
    "        return possibilities\n",
    "#her[:,0] #Column [up down]\n",
    "#her[0,:] #rows <->\n",
    "#her[down, right]"
   ]
  },
  {
   "cell_type": "code",
   "execution_count": 55,
   "metadata": {
    "collapsed": false
   },
   "outputs": [
    {
     "name": "stdout",
     "output_type": "stream",
     "text": [
      "5 6\n",
      "[[ 1.  0.  0.  0.  0.  0.]\n",
      " [ 0.  0.  0.  0.  0.  0.]\n",
      " [ 0.  0.  0.  0.  2.  0.]\n",
      " [ 0.  0.  0.  0.  0.  0.]\n",
      " [ 0.  0.  0.  0.  0.  0.]]\n",
      "[[ 4.47213595  3.60555128  2.82842712  2.23606798  2.          2.23606798]\n",
      " [ 4.12310563  3.16227766  2.23606798  1.41421356  1.          1.41421356]\n",
      " [ 4.          3.          2.          1.          0.          1.        ]\n",
      " [ 4.12310563  3.16227766  2.23606798  1.41421356  1.          1.41421356]\n",
      " [ 4.47213595  3.60555128  2.82842712  2.23606798  2.          2.23606798]]\n"
     ]
    }
   ],
   "source": [
    "#initialize map and function\n",
    "inp = list(map(int, raw_input().split()))\n",
    "frontier = [[0,0]]\n",
    "explored = []\n",
    "objective = [2,4]\n",
    "player = [0,0]\n",
    "vals = initialize_map(inp[0], inp[1], player, objective)\n",
    "her = heuristic(inp[0], inp[1], objective)"
   ]
  },
  {
   "cell_type": "code",
   "execution_count": 35,
   "metadata": {
    "collapsed": false
   },
   "outputs": [
    {
     "name": "stdout",
     "output_type": "stream",
     "text": [
      "[[0, 0], [1, 0], [0, 1]]\n"
     ]
    }
   ],
   "source": [
    "\n",
    "x = possible_moves(frontier, vals)\n",
    "\n",
    "for element in x: \n",
    "    frontier.append(element)\n",
    "print frontier"
   ]
  },
  {
   "cell_type": "code",
   "execution_count": 34,
   "metadata": {
    "collapsed": false
   },
   "outputs": [
    {
     "ename": "TypeError",
     "evalue": "set expected at most 1 arguments, got 3",
     "output_type": "error",
     "traceback": [
      "\u001b[1;31m---------------------------------------------------------------------------\u001b[0m",
      "\u001b[1;31mTypeError\u001b[0m                                 Traceback (most recent call last)",
      "\u001b[1;32m<ipython-input-34-b3515047adb0>\u001b[0m in \u001b[0;36m<module>\u001b[1;34m()\u001b[0m\n\u001b[1;32m----> 1\u001b[1;33m \u001b[0mx\u001b[0m \u001b[1;33m=\u001b[0m \u001b[0mset\u001b[0m\u001b[1;33m(\u001b[0m\u001b[1;33m[\u001b[0m\u001b[1;36m0\u001b[0m\u001b[1;33m,\u001b[0m\u001b[1;36m1\u001b[0m\u001b[1;33m]\u001b[0m\u001b[1;33m,\u001b[0m \u001b[1;33m[\u001b[0m\u001b[1;36m0\u001b[0m\u001b[1;33m,\u001b[0m\u001b[1;36m0\u001b[0m\u001b[1;33m]\u001b[0m\u001b[1;33m,\u001b[0m \u001b[1;33m[\u001b[0m\u001b[1;36m0\u001b[0m\u001b[1;33m,\u001b[0m\u001b[1;36m0\u001b[0m\u001b[1;33m]\u001b[0m\u001b[1;33m)\u001b[0m\u001b[1;33m\u001b[0m\u001b[0m\n\u001b[0m\u001b[0;32m      2\u001b[0m \u001b[1;32mprint\u001b[0m \u001b[0mx\u001b[0m\u001b[1;33m\u001b[0m\u001b[0m\n",
      "\u001b[1;31mTypeError\u001b[0m: set expected at most 1 arguments, got 3"
     ]
    }
   ],
   "source": []
  },
  {
   "cell_type": "code",
   "execution_count": 56,
   "metadata": {
    "collapsed": false
   },
   "outputs": [
    {
     "ename": "TypeError",
     "evalue": "list indices must be integers, not tuple",
     "output_type": "error",
     "traceback": [
      "\u001b[1;31m---------------------------------------------------------------------------\u001b[0m",
      "\u001b[1;31mTypeError\u001b[0m                                 Traceback (most recent call last)",
      "\u001b[1;32m<ipython-input-56-5726ff32a6c8>\u001b[0m in \u001b[0;36m<module>\u001b[1;34m()\u001b[0m\n\u001b[1;32m----> 1\u001b[1;33m \u001b[0mabc\u001b[0m \u001b[1;33m=\u001b[0m \u001b[1;33m[\u001b[0m\u001b[1;33m[\u001b[0m\u001b[1;33m[\u001b[0m\u001b[1;36m0\u001b[0m\u001b[1;33m,\u001b[0m\u001b[1;36m0\u001b[0m\u001b[1;33m]\u001b[0m\u001b[1;33m,\u001b[0m\u001b[1;33m[\u001b[0m\u001b[1;36m0\u001b[0m\u001b[1;33m,\u001b[0m\u001b[1;36m1\u001b[0m\u001b[1;33m]\u001b[0m\u001b[1;33m]\u001b[0m\u001b[1;33m,\u001b[0m\u001b[1;33m[\u001b[0m\u001b[1;33m[\u001b[0m\u001b[1;36m1\u001b[0m\u001b[1;33m,\u001b[0m\u001b[1;36m1\u001b[0m\u001b[1;33m]\u001b[0m\u001b[1;33m[\u001b[0m\u001b[1;36m0\u001b[0m\u001b[1;33m,\u001b[0m\u001b[1;36m1\u001b[0m\u001b[1;33m]\u001b[0m\u001b[1;33m]\u001b[0m\u001b[1;33m]\u001b[0m\u001b[1;33m\u001b[0m\u001b[0m\n\u001b[0m",
      "\u001b[1;31mTypeError\u001b[0m: list indices must be integers, not tuple"
     ]
    }
   ],
   "source": [
    "abc = [[[0,0],[0,1]],[[1,1][0,1]]]"
   ]
  },
  {
   "cell_type": "code",
   "execution_count": null,
   "metadata": {
    "collapsed": true
   },
   "outputs": [],
   "source": []
  }
 ],
 "metadata": {
  "kernelspec": {
   "display_name": "Python 2",
   "language": "python",
   "name": "python2"
  },
  "language_info": {
   "codemirror_mode": {
    "name": "ipython",
    "version": 2
   },
   "file_extension": ".py",
   "mimetype": "text/x-python",
   "name": "python",
   "nbconvert_exporter": "python",
   "pygments_lexer": "ipython2",
   "version": "2.7.10"
  }
 },
 "nbformat": 4,
 "nbformat_minor": 0
}
