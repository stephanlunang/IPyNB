{
 "cells": [
  {
   "cell_type": "code",
   "execution_count": 1,
   "metadata": {
    "collapsed": false
   },
   "outputs": [
    {
     "data": {
      "text/plain": [
       "'import socket\\n\\ntarget_host = \\'www.google.com\\'\\ntarget_port = 80\\n\\n#create socket object \\nclient = socket.socket(socket.AF_INET, socket.SOCK_STREAM)\\n\\n#create client\\nclient.connect((target_host, target_port))\\n\\n#send some data\\nclient.send(\"GET / HTTP/1.1\\r\\nHost: google.com\\r\\n\\r\\n\")\\n\\n#receive and print some data (response)\\nprint client.recv(4096) '"
      ]
     },
     "execution_count": 1,
     "metadata": {},
     "output_type": "execute_result"
    }
   ],
   "source": [
    "#TCP Client\n",
    "\n",
    "'''import socket\n",
    "\n",
    "target_host = 'www.google.com'\n",
    "target_port = 80\n",
    "\n",
    "#create socket object \n",
    "client = socket.socket(socket.AF_INET, socket.SOCK_STREAM)\n",
    "\n",
    "#create client\n",
    "client.connect((target_host, target_port))\n",
    "\n",
    "#send some data\n",
    "client.send(\"GET / HTTP/1.1\\r\\nHost: google.com\\r\\n\\r\\n\")\n",
    "\n",
    "#receive and print some data (response)\n",
    "print client.recv(4096) '''"
   ]
  },
  {
   "cell_type": "code",
   "execution_count": null,
   "metadata": {
    "collapsed": true
   },
   "outputs": [],
   "source": []
  },
  {
   "cell_type": "code",
   "execution_count": null,
   "metadata": {
    "collapsed": true
   },
   "outputs": [],
   "source": []
  },
  {
   "cell_type": "code",
   "execution_count": null,
   "metadata": {
    "collapsed": true
   },
   "outputs": [],
   "source": []
  },
  {
   "cell_type": "code",
   "execution_count": null,
   "metadata": {
    "collapsed": true
   },
   "outputs": [],
   "source": []
  },
  {
   "cell_type": "code",
   "execution_count": 3,
   "metadata": {
    "collapsed": false
   },
   "outputs": [
    {
     "data": {
      "text/plain": [
       "'\\nimport socket\\n\\ntarget_host = \"127.0.0.1\"\\ntarget_port = 80\\n\\n#create socket object \\nclient = socket.socket(socket.AF_INET, socket.SOCK_DGRAM)\\n\\n#send some data\\nclient.sendto(\"AAABBBCCC\", (target_host, target_port))\\n\\n#receive some data\\ndata, addr = client.recvfrom(4096)\\n\\nprint data\\n'"
      ]
     },
     "execution_count": 3,
     "metadata": {},
     "output_type": "execute_result"
    }
   ],
   "source": [
    "#UDP Client\n",
    "\n",
    "'''\n",
    "import socket\n",
    "\n",
    "target_host = \"127.0.0.1\"\n",
    "target_port = 80\n",
    "\n",
    "#create socket object \n",
    "client = socket.socket(socket.AF_INET, socket.SOCK_DGRAM)\n",
    "\n",
    "#send some data\n",
    "client.sendto(\"AAABBBCCC\", (target_host, target_port))\n",
    "\n",
    "#receive some data\n",
    "data, addr = client.recvfrom(4096)\n",
    "\n",
    "print data\n",
    "'''"
   ]
  },
  {
   "cell_type": "code",
   "execution_count": null,
   "metadata": {
    "collapsed": true
   },
   "outputs": [],
   "source": []
  },
  {
   "cell_type": "code",
   "execution_count": null,
   "metadata": {
    "collapsed": true
   },
   "outputs": [],
   "source": []
  }
 ],
 "metadata": {
  "kernelspec": {
   "display_name": "Python 2",
   "language": "python",
   "name": "python2"
  },
  "language_info": {
   "codemirror_mode": {
    "name": "ipython",
    "version": 2
   },
   "file_extension": ".py",
   "mimetype": "text/x-python",
   "name": "python",
   "nbconvert_exporter": "python",
   "pygments_lexer": "ipython2",
   "version": "2.7.10"
  }
 },
 "nbformat": 4,
 "nbformat_minor": 0
}
