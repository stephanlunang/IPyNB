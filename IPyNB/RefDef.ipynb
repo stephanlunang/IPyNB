{
 "cells": [
  {
   "cell_type": "code",
   "execution_count": 1,
   "metadata": {
    "collapsed": true
   },
   "outputs": [],
   "source": [
    "#Useful def\n",
    "\n",
    "def inp_str(T): return list(map(str,raw_input().split()))\n",
    "def inp_int(T): return list(map(int, raw_input().split()))"
   ]
  },
  {
   "cell_type": "code",
   "execution_count": 9,
   "metadata": {
    "collapsed": true
   },
   "outputs": [],
   "source": [
    "def id_num(i): #Converts regular int into an 8 digit string of same value\n",
    "    num = ['0', '0', '0', '0','0', '0', '0', '0', '0']\n",
    "    id_len = len(str(i)) * -1\n",
    "    del num[id_len:]\n",
    "    num.append(str(i))\n",
    "    return \"\".join(num)"
   ]
  },
  {
   "cell_type": "code",
   "execution_count": 14,
   "metadata": {
    "collapsed": false
   },
   "outputs": [
    {
     "name": "stdout",
     "output_type": "stream",
     "text": [
      "000010032\n"
     ]
    }
   ],
   "source": [
    "print id_num(10032)"
   ]
  },
  {
   "cell_type": "code",
   "execution_count": 18,
   "metadata": {
    "collapsed": true
   },
   "outputs": [],
   "source": [
    "num_users = 3"
   ]
  },
  {
   "cell_type": "code",
   "execution_count": 20,
   "metadata": {
    "collapsed": false
   },
   "outputs": [
    {
     "name": "stdout",
     "output_type": "stream",
     "text": [
      "ID_000000000\n",
      "ID_000000001\n",
      "ID_000000002\n"
     ]
    }
   ],
   "source": [
    "#DETERMINE HOW TO CONVERT A STRING INTO A CLASS CALL!!!!\n",
    "\n",
    "#Distance Check first\n",
    "current_profile = ID_000000000\n",
    "def DistanceMatches (current_profile, num_users):\n",
    "    for i in range(num_users):                                   #Increments through all user ID numbers\n",
    "        comp = 'ID_' + id_num(i)                                 #Creates a string with full class name\n",
    "        dist_matches = []                                        #Creates array used to store matches\n",
    "        \n",
    "        '''[NEEDS WORK!] Somehow does string to class to be used later (It might be necessary to do it for \n",
    "        current profile as well if parameter is a string not class)'''\n",
    "        \n",
    "        dist = dist_diff(cnvt(current_profile.Location), cnvt(comp.Location)) \n",
    "        '''Converts both to long and lat if needed then determines difference in distance'''\n",
    "        \n",
    "        if dist < current_profile.Dist_WTT and dist < comp.Dist_WTT:             #If both within alloted distance\n",
    "            dist_matches.append(str(comp))                                         \n",
    "            '''[NEEDS WORK!] converts class back to string [str()?] then stores all matching IDs in array'''\n",
    "        return dist_matches\n",
    "        \n",
    "    "
   ]
  },
  {
   "cell_type": "code",
   "execution_count": null,
   "metadata": {
    "collapsed": true
   },
   "outputs": [],
   "source": []
  },
  {
   "cell_type": "code",
   "execution_count": null,
   "metadata": {
    "collapsed": true
   },
   "outputs": [],
   "source": [
    "#Checks that both parties get instruments they are interested in playing with, genre match, and drug\n",
    "def inst_mus_drugs_check(current_profile, dist_matches):\n",
    "    instra_match = []    \n",
    "    \n",
    "    '''[NEEDS WORK!] Convert str to class'''\n",
    "    played_cp, wanted_cp, mus_cp = set(current_profile.INP), set(current_profile.INLF), set(current_profile.TOM)\n",
    "    drug_cp, drink_cp = current_profile.Drugs, current profile.DYD\n",
    "    for i in range(len(dist_matches)):\n",
    "        '''[NEEDS WORK!] Convert str to class\n",
    "        current_match = dist_matches[i]'''\n",
    "        '''Sets make it easier to '''\n",
    "        played_m, wanted_m, mus_m =  set(current_match.INP), set(current_match.INLF), set(current_profile.TOM)\n",
    "        drug_cp, drink_cp = current_match.Drugs, current_match.DYD\n",
    "        if (len(played_cp.intersection(wanted_m))) > 0 and (len(played_m.intersection(played_cp))) > 0 and len(mus_cp.intersection(mus_m)) > 0:\n",
    "                '''Checks that both parties get instruments they are interested in playing with and are interested in playing the same music'''\n",
    "                instra_match.append(str(current_match))         #[NEEDS WORK!] Again with the whole class to string conversion needed ARG!\n",
    "    return instra_match #Returns matches that want to play the same type of music"
   ]
  },
  {
   "cell_type": "code",
   "execution_count": null,
   "metadata": {
    "collapsed": true
   },
   "outputs": [],
   "source": []
  },
  {
   "cell_type": "code",
   "execution_count": null,
   "metadata": {
    "collapsed": true
   },
   "outputs": [],
   "source": []
  },
  {
   "cell_type": "code",
   "execution_count": null,
   "metadata": {
    "collapsed": false
   },
   "outputs": [],
   "source": []
  },
  {
   "cell_type": "code",
   "execution_count": null,
   "metadata": {
    "collapsed": true
   },
   "outputs": [],
   "source": []
  },
  {
   "cell_type": "code",
   "execution_count": null,
   "metadata": {
    "collapsed": true
   },
   "outputs": [],
   "source": []
  },
  {
   "cell_type": "code",
   "execution_count": null,
   "metadata": {
    "collapsed": true
   },
   "outputs": [],
   "source": []
  },
  {
   "cell_type": "code",
   "execution_count": null,
   "metadata": {
    "collapsed": true
   },
   "outputs": [],
   "source": []
  }
 ],
 "metadata": {
  "kernelspec": {
   "display_name": "Python 2",
   "language": "python",
   "name": "python2"
  },
  "language_info": {
   "codemirror_mode": {
    "name": "ipython",
    "version": 2
   },
   "file_extension": ".py",
   "mimetype": "text/x-python",
   "name": "python",
   "nbconvert_exporter": "python",
   "pygments_lexer": "ipython2",
   "version": "2.7.10"
  }
 },
 "nbformat": 4,
 "nbformat_minor": 0
}
