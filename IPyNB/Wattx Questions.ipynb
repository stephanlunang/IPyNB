{
 "cells": [
  {
   "cell_type": "code",
   "execution_count": 13,
   "metadata": {
    "collapsed": false
   },
   "outputs": [],
   "source": [
    "import types\n"
   ]
  },
  {
   "cell_type": "code",
   "execution_count": 14,
   "metadata": {
    "collapsed": false
   },
   "outputs": [
    {
     "name": "stdout",
     "output_type": "stream",
     "text": [
      "[1, 3, 4]\n"
     ]
    }
   ],
   "source": [
    "objects = [1,2,3,4]\n",
    "method = \"pop\"\n",
    "getattr(objects, method)(1)\n",
    "print objects"
   ]
  },
  {
   "cell_type": "code",
   "execution_count": 17,
   "metadata": {
    "collapsed": false
   },
   "outputs": [
    {
     "name": "stdout",
     "output_type": "stream",
     "text": [
      "Print methods and doc strings.\n",
      "    \n",
      "    Takes module, class, list, dictionary, or string.\n"
     ]
    }
   ],
   "source": [
    "def info(object, spacing=10, collapse=1):\n",
    "    \"\"\"Print methods and doc strings.\n",
    "    \n",
    "    Takes module, class, list, dictionary, or string.\"\"\"\n",
    "    methodList = [method for method in dir(object) if callable(getattr(object, method))]\n",
    "    processFunc = collapse and (lambda s: \" \".join(s.split())) or (lambda s: s)\n",
    "    print \"\\n\".join([\"%s %s\" %\n",
    "                      (method.ljust(spacing),\n",
    "                       processFunc(str(getattr(object, method).__doc__)))\n",
    "                     for method in methodList])\n",
    "\n",
    "if __name__ == \"__main__\":                \n",
    "    print info.__doc__"
   ]
  },
  {
   "cell_type": "code",
   "execution_count": 18,
   "metadata": {
    "collapsed": false
   },
   "outputs": [
    {
     "name": "stdout",
     "output_type": "stream",
     "text": [
      "__add__    x.__add__(y) <==> x+y\n",
      "__class__  list() -> new empty list list(iterable) -> new list initialized from iterable's items\n",
      "__contains__ x.__contains__(y) <==> y in x\n",
      "__delattr__ x.__delattr__('name') <==> del x.name\n",
      "__delitem__ x.__delitem__(y) <==> del x[y]\n",
      "__delslice__ x.__delslice__(i, j) <==> del x[i:j] Use of negative indices is not supported.\n",
      "__eq__     x.__eq__(y) <==> x==y\n",
      "__format__ default object formatter\n",
      "__ge__     x.__ge__(y) <==> x>=y\n",
      "__getattribute__ x.__getattribute__('name') <==> x.name\n",
      "__getitem__ x.__getitem__(y) <==> x[y]\n",
      "__getslice__ x.__getslice__(i, j) <==> x[i:j] Use of negative indices is not supported.\n",
      "__gt__     x.__gt__(y) <==> x>y\n",
      "__iadd__   x.__iadd__(y) <==> x+=y\n",
      "__imul__   x.__imul__(y) <==> x*=y\n",
      "__init__   x.__init__(...) initializes x; see help(type(x)) for signature\n",
      "__iter__   x.__iter__() <==> iter(x)\n",
      "__le__     x.__le__(y) <==> x<=y\n",
      "__len__    x.__len__() <==> len(x)\n",
      "__lt__     x.__lt__(y) <==> x<y\n",
      "__mul__    x.__mul__(n) <==> x*n\n",
      "__ne__     x.__ne__(y) <==> x!=y\n",
      "__new__    T.__new__(S, ...) -> a new object with type S, a subtype of T\n",
      "__reduce__ helper for pickle\n",
      "__reduce_ex__ helper for pickle\n",
      "__repr__   x.__repr__() <==> repr(x)\n",
      "__reversed__ L.__reversed__() -- return a reverse iterator over the list\n",
      "__rmul__   x.__rmul__(n) <==> n*x\n",
      "__setattr__ x.__setattr__('name', value) <==> x.name = value\n",
      "__setitem__ x.__setitem__(i, y) <==> x[i]=y\n",
      "__setslice__ x.__setslice__(i, j, y) <==> x[i:j]=y Use of negative indices is not supported.\n",
      "__sizeof__ L.__sizeof__() -- size of L in memory, in bytes\n",
      "__str__    x.__str__() <==> str(x)\n",
      "__subclasshook__ Abstract classes can override this to customize issubclass(). This is invoked early on by abc.ABCMeta.__subclasscheck__(). It should return True, False or NotImplemented. If it returns NotImplemented, the normal algorithm is used. Otherwise, it overrides the normal algorithm (and the outcome is cached).\n",
      "append     L.append(object) -- append object to end\n",
      "count      L.count(value) -> integer -- return number of occurrences of value\n",
      "extend     L.extend(iterable) -- extend list by appending elements from the iterable\n",
      "index      L.index(value, [start, [stop]]) -> integer -- return first index of value. Raises ValueError if the value is not present.\n",
      "insert     L.insert(index, object) -- insert object before index\n",
      "pop        L.pop([index]) -> item -- remove and return item at index (default last). Raises IndexError if list is empty or index is out of range.\n",
      "remove     L.remove(value) -- remove first occurrence of value. Raises ValueError if the value is not present.\n",
      "reverse    L.reverse() -- reverse *IN PLACE*\n",
      "sort       L.sort(cmp=None, key=None, reverse=False) -- stable sort *IN PLACE*; cmp(x, y) -> -1, 0, 1\n"
     ]
    }
   ],
   "source": [
    "info(objects)"
   ]
  },
  {
   "cell_type": "code",
   "execution_count": null,
   "metadata": {
    "collapsed": true
   },
   "outputs": [],
   "source": []
  }
 ],
 "metadata": {
  "kernelspec": {
   "display_name": "Python 2",
   "language": "python",
   "name": "python2"
  },
  "language_info": {
   "codemirror_mode": {
    "name": "ipython",
    "version": 2
   },
   "file_extension": ".py",
   "mimetype": "text/x-python",
   "name": "python",
   "nbconvert_exporter": "python",
   "pygments_lexer": "ipython2",
   "version": "2.7.10"
  }
 },
 "nbformat": 4,
 "nbformat_minor": 0
}
