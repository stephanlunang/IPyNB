{
 "metadata": {
  "name": "Meteor"
 }, 
 "nbformat": 2, 
 "worksheets": [
  {
   "cells": [
    {
     "cell_type": "code", 
     "collapsed": true, 
     "input": [
      "from numpy import *", 
      "from matplotlib.pyplot import *", 
      "from scipy.optimize import leastsq", 
      "", 
      "def convert(deg):", 
      "    arc = deg*60*60", 
      "    return arc"
     ], 
     "language": "python", 
     "outputs": [], 
     "prompt_number": 16
    }, 
    {
     "cell_type": "code", 
     "collapsed": false, 
     "input": [
      "meteors = 5 #meteors/hour", 
      "integrationtime = (5./60) #hours", 
      "probduringtime = meteors * integrationtime", 
      "print probduringtime, 'meteors during integration time'"
     ], 
     "language": "python", 
     "outputs": [
      {
       "output_type": "stream", 
       "stream": "stdout", 
       "text": [
        "0.416666666667 meteors during integration time"
       ]
      }
     ], 
     "prompt_number": 17
    }, 
    {
     "cell_type": "code", 
     "collapsed": false, 
     "input": [
      "a = 24*60", 
      "areaofview = a * a #arcseconds^2", 
      "x = convert(360)", 
      "radius = x/(2*pi)", 
      "#print radius", 
      "Size = 4*pi*(radius**2)", 
      "print Size, 'arcseconds^2'"
     ], 
     "language": "python", 
     "outputs": [
      {
       "output_type": "stream", 
       "stream": "stdout", 
       "text": [
        "5.34638377792e+11 arcseconds^2"
       ]
      }
     ], 
     "prompt_number": 22
    }, 
    {
     "cell_type": "code", 
     "collapsed": false, 
     "input": [
      "metperarea = probduringtime/Size", 
      "meteorsexpectedduringintegration = metperarea * areaofview", 
      "print meteorsexpectedduringintegration, 'meteors expected in FOV during integration time'"
     ], 
     "language": "python", 
     "outputs": [
      {
       "output_type": "stream", 
       "stream": "stdout", 
       "text": [
        "4.48901556583e-10 meteors expected in FOV during integration time"
       ]
      }
     ], 
     "prompt_number": 25
    }, 
    {
     "cell_type": "code", 
     "collapsed": true, 
     "input": [], 
     "language": "python", 
     "outputs": []
    }
   ]
  }
 ]
}