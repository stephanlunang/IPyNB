{
 "metadata": {
  "name": "Constants"
 }, 
 "nbformat": 2, 
 "worksheets": [
  {
   "cells": [
    {
     "cell_type": "code", 
     "collapsed": true, 
     "input": [
      "slum = 3.8*10**26", 
      "smass = 2*10**30", 
      "srad = 7*10**8", 
      "dist = 1.5*10**11", 
      "pmass = 1.6726*10**-27", 
      "nmass = 1.6749*10**-27", 
      "k = 1.3806488*10**-23", 
      "pi = 3.14159265359", 
      "G = 6.67384*10**-11", 
      "mHE = 6.64619*10**-27", 
      "c = 299792458 ", 
      "e = 2.71828"
     ], 
     "language": "python", 
     "outputs": [], 
     "prompt_number": 1
    }, 
    {
     "cell_type": "code", 
     "collapsed": true, 
     "input": [], 
     "language": "python", 
     "outputs": []
    }
   ]
  }
 ]
}