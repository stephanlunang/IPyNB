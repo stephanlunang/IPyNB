{
 "metadata": {
  "name": "Homework4_Stephan_Ng"
 }, 
 "nbformat": 2, 
 "worksheets": [
  {
   "cells": [
    {
     "cell_type": "code", 
     "collapsed": false, 
     "input": [
      "light = 299792458.", 
      "dist = 730000.", 
      "addtime = .000000006", 
      "SolR = 6.955*10**8", 
      "time = dist/light", 
      "print time", 
      "def Lencomp(x):", 
      "    if x>SolR:", 
      "        print 'It has a greater radius than the sun!'", 
      "    if x<SolR:", 
      "        print 'It has a smaller radius than the sun!'"
     ], 
     "language": "python", 
     "outputs": [
      {
       "output_type": "stream", 
       "stream": "stdout", 
       "text": [
        "0.00243501789495"
       ]
      }
     ], 
     "prompt_number": 22
    }, 
    {
     "cell_type": "code", 
     "collapsed": false, 
     "input": [
      "timenew = time-addtime", 
      "print timenew"
     ], 
     "language": "python", 
     "outputs": [
      {
       "output_type": "stream", 
       "stream": "stdout", 
       "text": [
        "0.00243501189495"
       ]
      }
     ], 
     "prompt_number": 23
    }, 
    {
     "cell_type": "code", 
     "collapsed": false, 
     "input": [
      "speednew = dist/(time-addtime)", 
      "print speednew"
     ], 
     "language": "python", 
     "outputs": [
      {
       "output_type": "stream", 
       "stream": "stdout", 
       "text": [
        "299793196.705"
       ]
      }
     ], 
     "prompt_number": 24
    }, 
    {
     "cell_type": "code", 
     "collapsed": false, 
     "input": [
      "print 'Part A\\nThis is the speed of the particle is', speednew/light, 'c'"
     ], 
     "language": "python", 
     "outputs": [
      {
       "output_type": "stream", 
       "stream": "stdout", 
       "text": [
        "Part A", 
        "This is the speed of the particle is 1.00000246405 c"
       ]
      }
     ], 
     "prompt_number": 25
    }, 
    {
     "cell_type": "code", 
     "collapsed": false, 
     "input": [
      "me = .511", 
      "En = 1 #eV", 
      "Mean = (En/(me))**2 * (10**-44) ", 
      "print Mean"
     ], 
     "language": "python", 
     "outputs": [
      {
       "output_type": "stream", 
       "stream": "stdout", 
       "text": [
        "3.82964219653e-44"
       ]
      }
     ], 
     "prompt_number": 26
    }, 
    {
     "cell_type": "code", 
     "collapsed": false, 
     "input": [
      "Ava = 6.022*10**23 #part/g", 
      "den1 = 10**3  #g/cm^3", 
      "n1 = den1*Ava  #particles/cm^3", 
      "den2 = 10**14 #g/cm^3", 
      "n2 = den2*Ava", 
      "Meanfree1 = 1/(Mean*n1)", 
      "Meanfree2 = 1/(Mean*n2)", 
      "print 'Part B\\nMean free path length for Main Sequence = ', Meanfree1, 'cm \\nMean free path length for Collapsed Stellar Core = ', Meanfree2, 'cm\\nOr\\n', Meanfree1/100, 'm\\n', Meanfree2/100, 'm\\n'"
     ], 
     "language": "python", 
     "outputs": [
      {
       "output_type": "stream", 
       "stream": "stdout", 
       "text": [
        "Part B", 
        "Mean free path length for Main Sequence =  4.33611756891e+16 cm ", 
        "Mean free path length for Collapsed Stellar Core =  433611.756891 cm", 
        "Or", 
        "4.33611756891e+14 m", 
        "4336.11756891 m", 
        ""
       ]
      }
     ], 
     "prompt_number": 42
    }, 
    {
     "cell_type": "code", 
     "collapsed": false, 
     "input": [
      "print 'The first one would escape because the radius of the star is much smaller than the mean free path!\\nHowever, because the nuetron stars radius is approximately 10 km large, it would not escape the neutron star.'"
     ], 
     "language": "python", 
     "outputs": [
      {
       "output_type": "stream", 
       "stream": "stdout", 
       "text": [
        "The first one would escape because the radius of the star is much smaller than the mean free path!", 
        "However, because the nuetron stars radius is approximately 10 km large, it would not escape the neutron star."
       ]
      }
     ], 
     "prompt_number": 28
    }, 
    {
     "cell_type": "code", 
     "collapsed": false, 
     "input": [], 
     "language": "python", 
     "outputs": [], 
     "prompt_number": 32
    }, 
    {
     "cell_type": "code", 
     "collapsed": false, 
     "input": [], 
     "language": "python", 
     "outputs": [], 
     "prompt_number": 32
    }, 
    {
     "cell_type": "code", 
     "collapsed": false, 
     "input": [
      "rho = 2.1*10**8", 
      "k = .03 ", 
      "MFPp = 1/(k*rho)", 
      "print 'Part C\\nThe mean free path for a photon is:', MFPp, 'meters'", 
      "tp = (SolR**2)/(MFPp*light)", 
      "print 'The photon would take an average of:', tp, 'seconds or'", 
      "convert_sy(tp)"
     ], 
     "language": "python", 
     "outputs": [
      {
       "output_type": "stream", 
       "stream": "stdout", 
       "text": [
        "Part C", 
        "The mean free path for a photon is: 1.5873015873e-07 meters", 
        "The photon would take an average of: 1.01651575738e+16 seconds or", 
        "323576558.134 years"
       ]
      }
     ], 
     "prompt_number": 41
    }, 
    {
     "cell_type": "code", 
     "collapsed": false, 
     "input": [
      "print 'Since the neutrino is going at approximately c,'", 
      "tn = SolR/light", 
      "print 'the neutrino would take approximately', tn, 'seconds or' ", 
      "convert_sy(tn) ", 
      "print 'to escape the star.'", 
      "td = tp - tn", 
      "print 'Therefore, the neutrinos leave approximately:', td, 'seconds or'", 
      "convert_sy(td) ", 
      "print 'before the photons, given our conditions.'"
     ], 
     "language": "python", 
     "outputs": [
      {
       "output_type": "stream", 
       "stream": "stdout", 
       "text": [
        "Since the neutrino is going at approximately c,", 
        "the neutrino would take approximately 2.3199382821 seconds or", 
        "7.38481070222e-08 years", 
        "to escape the star.", 
        "Therefore, the neutrinos leave approximately: 1.01651575738e+16 seconds or", 
        "323576558.134 years", 
        "before the photons, given our conditions."
       ]
      }
     ], 
     "prompt_number": 40
    }, 
    {
     "cell_type": "code", 
     "collapsed": true, 
     "input": [], 
     "language": "python", 
     "outputs": [], 
     "prompt_number": 42
    }, 
    {
     "cell_type": "code", 
     "collapsed": true, 
     "input": [], 
     "language": "python", 
     "outputs": [], 
     "prompt_number": 42
    }, 
    {
     "cell_type": "code", 
     "collapsed": true, 
     "input": [], 
     "language": "python", 
     "outputs": [], 
     "prompt_number": 42
    }, 
    {
     "cell_type": "code", 
     "collapsed": false, 
     "input": [
      "print 'part D'", 
      "SN = 1.6*10**21 #m", 
      "tneu = SN/speednew", 
      "print 'The arrival time for the photons would be', tneu, 'seconds or'", 
      "convert_sy(tneu)", 
      "print 'While photons would get here at', SN/light, 'second or'", 
      "convert_sy(SN/light)", 
      "print 'They are not lining up with the curves shown, which makes sense.'sn"
     ], 
     "language": "python", 
     "outputs": [
      {
       "output_type": "stream", 
       "stream": "stdout", 
       "text": [
        "part D", 
        "The arrival time for the photons would be 5.33701237249e+12 seconds or", 
        "169887.390498 years", 
        "While photons would get here at 5.33702552317e+12 second or", 
        "169887.809109 years", 
        "They are not lining up with the curves shown, which makes sense."
       ]
      }
     ], 
     "prompt_number": 46
    }, 
    {
     "cell_type": "code", 
     "collapsed": false, 
     "input": [
      "print'part E\\nThis is a convincing argument against neutrinos traveling faster than the speed of light.\\nDifference between the OPERA neutrinos and the SN1978A neutrinos include:'", 
      "print'-The fact that any speed faster than light would make time arbitrary accoding the the principles of general relative which would mess up current calculations.'", 
      "print'-Their sensors would not be calibrated have maximum hits because the energy level would be different than expected.'", 
      "print'-It would have to contain either no mass or some type of imaginary mass due to its nature.'"
     ], 
     "language": "python", 
     "outputs": [
      {
       "output_type": "stream", 
       "stream": "stdout", 
       "text": [
        "part E", 
        "This is a convincing argument against neutrinos traveling faster than the speed of light.", 
        "Difference between the OPERA neutrinos and the SN1978A neutrinos include:", 
        "-The fact that any speed faster than light would make time arbitrary accoding the the principles of general relative which would mess up current calculations.", 
        "-Their sensors would not be calibrated have maximum hits because the energy level would be different than expected.", 
        "-It would have to contain either no mass or some type of imaginary mass due to its nature."
       ]
      }
     ], 
     "prompt_number": 48
    }, 
    {
     "cell_type": "code", 
     "collapsed": true, 
     "input": [], 
     "language": "python", 
     "outputs": []
    }
   ]
  }
 ]
}