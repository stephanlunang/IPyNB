{
 "metadata": {
  "name": "Untitled6"
 }, 
 "nbformat": 2, 
 "worksheets": [
  {
   "cells": [
    {
     "cell_type": "code", 
     "collapsed": true, 
     "input": [
      "%pylab inline", 
      "import matplotlib.pyplot as plt", 
      "import matplotlib.pylab as plb", 
      "import numpy as np", 
      "from scipy.misc import factorial", 
      "from scipy import optimize", 
      "x = np.loadtxt('Desktop/LabGeiger/Geigercounterstep10_final')", 
      "plt.figure(figsize=(15,12))", 
      "", 
      "print np.amin(x)", 
      "print np.amax(x)", 
      "mu = np.mean(x)", 
      "sigma = np.std(x, ddof=1)", 
      "print mu, sigma", 
      "counts, bad_bins = histogram(x, bins= 2)", 
      "bin_edges = np.linspace(620,750,17)", 
      "n, binsy, patches = plb.hist(x, bin_edges, color='.75')", 
      "print n", 
      "x_val = binsy[:-1] + 2.5", 
      "print x_val", 
      "#print type(x_val)", 
      "yerr = np.sqrt(n)", 
      "plt.errorbar(x_val, n, yerr, fmt=None, elinewidth=2, ecolor='r', capsize=10)", 
      "plt.title('Rates of Counts of Nuclear Decay of Cesium-137', fontsize=30)", 
      "plt.xlabel('Number of counts per 10 $\\pm$ 0.1s interval', fontsize=25)", 
      "plt.ylabel('Frequency of number of counts', fontsize=25)", 
      "def gauss(x_g, mu_g, sigma_g):", 
      "    gauss = (1 / (sigma_g * np.sqrt(2 * np.pi))) * np.exp(-1*(((x_g-mu_g)**2) / (2 * sigma_g**2)))", 
      "    return gauss", 
      "x_fit_man = np.arange(620, 750, 1)", 
      "y_fit_man = 200 *10* gauss(x_fit_man, mu, sigma)"
     ], 
     "language": "python", 
     "outputs": []
    }, 
    {
     "cell_type": "code", 
     "collapsed": true, 
     "input": [
      "def f(x, b, c):", 
      "    return (10 * 200 / (c * np.sqrt(2 * np.pi))) * np.exp(-(x - b)**2.0 / (2 * c**2))", 
      "mean_op = mu", 
      "sigma_op = sigma", 
      "mu_sig = (mean_op, sigma_op)", 
      "def chi_sq(mu_sig, h, x_op):", 
      "    chi_2 = ((h - f(x_op, mu_sig[0], mu_sig[1]))**2)/(f(x_op, mu_sig[0], mu_sig[1]))**2", 
      "    return np.sum(chi_2)", 
      "mu_sig_opt = optimize.fmin(chi_sq, mu_sig, args=(n,x_val))", 
      "print mu_sig_opt[0]", 
      "print mu_sig_opt[1]", 
      "original_chi = chi_sq(mu_sig, n, x_val)", 
      "optimized_chi = chi_sq(mu_sig_opt, n, x_val)", 
      "x_fit_op = np.arange(620, 750, 1)", 
      "y_fit_op = f(x_fit_op, mu_sig_opt[0], mu_sig_opt[1])", 
      "print original_chi/15", 
      "print optimized_chi/15", 
      "plt.plot(x_fit_man, y_fit_man, lw=\u20192\u2019, label=\u2019Gaussian Fit From Calculated $\\mu$ and $\\sigma$\u2019)", 
      "plt.plot(x_fit_op, y_fit_op, lw=\u20192\u2019, label=\u2019Gaussian Fit With Optimized $\\mu$ and $\\sigma$\u2019)", 
      "plt.legend(loc=2, fontsize=20, shadow=True)"
     ], 
     "language": "python", 
     "outputs": []
    }, 
    {
     "cell_type": "code", 
     "collapsed": true, 
     "input": [], 
     "language": "python", 
     "outputs": []
    }, 
    {
     "cell_type": "code", 
     "collapsed": false, 
     "input": [], 
     "language": "python", 
     "outputs": [
      {
       "output_type": "stream", 
       "stream": "stdout", 
       "text": [
        "", 
        "Welcome to pylab, a matplotlib-based Python environment [backend: module://IPython.zmq.pylab.backend_inline].", 
        "For more information, type 'help(pylab)'."
       ]
      }, 
      {
       "ename": "ValueError", 
       "evalue": "color kwarg must have one color per dataset", 
       "output_type": "pyerr", 
       "traceback": [
        "\u001b[0;31m---------------------------------------------------------------------------\u001b[0m\n\u001b[0;31mValueError\u001b[0m                                Traceback (most recent call last)", 
        "\u001b[0;32m/home/stephan/<ipython-input-8-c1c3ad9413d0>\u001b[0m in \u001b[0;36m<module>\u001b[0;34m()\u001b[0m\n\u001b[1;32m     15\u001b[0m \u001b[0mcounts\u001b[0m\u001b[0;34m,\u001b[0m \u001b[0mbad_bins\u001b[0m \u001b[0;34m=\u001b[0m \u001b[0mhistogram\u001b[0m\u001b[0;34m(\u001b[0m\u001b[0mx\u001b[0m\u001b[0;34m,\u001b[0m \u001b[0mbins\u001b[0m\u001b[0;34m=\u001b[0m \u001b[0;36m2\u001b[0m\u001b[0;34m)\u001b[0m\u001b[0;34m\u001b[0m\u001b[0m\n\u001b[1;32m     16\u001b[0m \u001b[0mbin_edges\u001b[0m \u001b[0;34m=\u001b[0m \u001b[0mnp\u001b[0m\u001b[0;34m.\u001b[0m\u001b[0mlinspace\u001b[0m\u001b[0;34m(\u001b[0m\u001b[0;36m620\u001b[0m\u001b[0;34m,\u001b[0m\u001b[0;36m750\u001b[0m\u001b[0;34m,\u001b[0m\u001b[0;36m17\u001b[0m\u001b[0;34m)\u001b[0m\u001b[0;34m\u001b[0m\u001b[0m\n\u001b[0;32m---> 17\u001b[0;31m \u001b[0mn\u001b[0m\u001b[0;34m,\u001b[0m \u001b[0mbinsy\u001b[0m\u001b[0;34m,\u001b[0m \u001b[0mpatches\u001b[0m \u001b[0;34m=\u001b[0m \u001b[0mplb\u001b[0m\u001b[0;34m.\u001b[0m\u001b[0mhist\u001b[0m\u001b[0;34m(\u001b[0m\u001b[0mx\u001b[0m\u001b[0;34m,\u001b[0m \u001b[0mbin_edges\u001b[0m\u001b[0;34m,\u001b[0m \u001b[0mcolor\u001b[0m\u001b[0;34m=\u001b[0m\u001b[0;34m'.75'\u001b[0m\u001b[0;34m)\u001b[0m\u001b[0;34m\u001b[0m\u001b[0m\n\u001b[0m\u001b[1;32m     18\u001b[0m \u001b[0;32mprint\u001b[0m \u001b[0mn\u001b[0m\u001b[0;34m\u001b[0m\u001b[0m\n\u001b[1;32m     19\u001b[0m \u001b[0mx_val\u001b[0m \u001b[0;34m=\u001b[0m \u001b[0mbinsy\u001b[0m\u001b[0;34m[\u001b[0m\u001b[0;34m:\u001b[0m\u001b[0;34m-\u001b[0m\u001b[0;36m1\u001b[0m\u001b[0;34m]\u001b[0m \u001b[0;34m+\u001b[0m \u001b[0;36m2.5\u001b[0m\u001b[0;34m\u001b[0m\u001b[0m\n", 
        "\u001b[0;32m/usr/lib/pymodules/python2.7/matplotlib/pyplot.pyc\u001b[0m in \u001b[0;36mhist\u001b[0;34m(x, bins, range, normed, weights, cumulative, bottom, histtype, align, orientation, rwidth, log, color, label, hold, **kwargs)\u001b[0m\n\u001b[1;32m   2339\u001b[0m         \u001b[0max\u001b[0m\u001b[0;34m.\u001b[0m\u001b[0mhold\u001b[0m\u001b[0;34m(\u001b[0m\u001b[0mhold\u001b[0m\u001b[0;34m)\u001b[0m\u001b[0;34m\u001b[0m\u001b[0m\n\u001b[1;32m   2340\u001b[0m     \u001b[0;32mtry\u001b[0m\u001b[0;34m:\u001b[0m\u001b[0;34m\u001b[0m\u001b[0m\n\u001b[0;32m-> 2341\u001b[0;31m         \u001b[0mret\u001b[0m \u001b[0;34m=\u001b[0m \u001b[0max\u001b[0m\u001b[0;34m.\u001b[0m\u001b[0mhist\u001b[0m\u001b[0;34m(\u001b[0m\u001b[0mx\u001b[0m\u001b[0;34m,\u001b[0m \u001b[0mbins\u001b[0m\u001b[0;34m,\u001b[0m \u001b[0mrange\u001b[0m\u001b[0;34m,\u001b[0m \u001b[0mnormed\u001b[0m\u001b[0;34m,\u001b[0m \u001b[0mweights\u001b[0m\u001b[0;34m,\u001b[0m \u001b[0mcumulative\u001b[0m\u001b[0;34m,\u001b[0m \u001b[0mbottom\u001b[0m\u001b[0;34m,\u001b[0m \u001b[0mhisttype\u001b[0m\u001b[0;34m,\u001b[0m \u001b[0malign\u001b[0m\u001b[0;34m,\u001b[0m \u001b[0morientation\u001b[0m\u001b[0;34m,\u001b[0m \u001b[0mrwidth\u001b[0m\u001b[0;34m,\u001b[0m \u001b[0mlog\u001b[0m\u001b[0;34m,\u001b[0m \u001b[0mcolor\u001b[0m\u001b[0;34m,\u001b[0m \u001b[0mlabel\u001b[0m\u001b[0;34m,\u001b[0m \u001b[0;34m**\u001b[0m\u001b[0mkwargs\u001b[0m\u001b[0;34m)\u001b[0m\u001b[0;34m\u001b[0m\u001b[0m\n\u001b[0m\u001b[1;32m   2342\u001b[0m         \u001b[0mdraw_if_interactive\u001b[0m\u001b[0;34m(\u001b[0m\u001b[0;34m)\u001b[0m\u001b[0;34m\u001b[0m\u001b[0m\n\u001b[1;32m   2343\u001b[0m     \u001b[0;32mfinally\u001b[0m\u001b[0;34m:\u001b[0m\u001b[0;34m\u001b[0m\u001b[0m\n", 
        "\u001b[0;32m/usr/lib/pymodules/python2.7/matplotlib/axes.pyc\u001b[0m in \u001b[0;36mhist\u001b[0;34m(self, x, bins, range, normed, weights, cumulative, bottom, histtype, align, orientation, rwidth, log, color, label, **kwargs)\u001b[0m\n\u001b[1;32m   7670\u001b[0m             \u001b[0mcolor\u001b[0m \u001b[0;34m=\u001b[0m \u001b[0mmcolors\u001b[0m\u001b[0;34m.\u001b[0m\u001b[0mcolorConverter\u001b[0m\u001b[0;34m.\u001b[0m\u001b[0mto_rgba_array\u001b[0m\u001b[0;34m(\u001b[0m\u001b[0mcolor\u001b[0m\u001b[0;34m)\u001b[0m\u001b[0;34m\u001b[0m\u001b[0m\n\u001b[1;32m   7671\u001b[0m             \u001b[0;32mif\u001b[0m \u001b[0mlen\u001b[0m\u001b[0;34m(\u001b[0m\u001b[0mcolor\u001b[0m\u001b[0;34m)\u001b[0m \u001b[0;34m!=\u001b[0m \u001b[0mnx\u001b[0m\u001b[0;34m:\u001b[0m\u001b[0;34m\u001b[0m\u001b[0m\n\u001b[0;32m-> 7672\u001b[0;31m                 \u001b[0;32mraise\u001b[0m \u001b[0mValueError\u001b[0m\u001b[0;34m(\u001b[0m\u001b[0;34m\"color kwarg must have one color per dataset\"\u001b[0m\u001b[0;34m)\u001b[0m\u001b[0;34m\u001b[0m\u001b[0m\n\u001b[0m\u001b[1;32m   7673\u001b[0m \u001b[0;34m\u001b[0m\u001b[0m\n\u001b[1;32m   7674\u001b[0m         \u001b[0;31m# We need to do to 'weights' what was done to 'x'\u001b[0m\n\u001b[0;34m\u001b[0m\u001b[0m\n", 
        "\u001b[0;31mValueError\u001b[0m: color kwarg must have one color per dataset"
       ]
      }, 
      {
       "output_type": "stream", 
       "stream": "stdout", 
       "text": [
        "0.0", 
        "148.0", 
        "60.0 53.9738778223"
       ]
      }, 
      {
       "output_type": "display_data", 
       "png": "[encoded data removed]"
      }
     ], 
     "prompt_number": 8
    }, 
    {
     "cell_type": "code", 
     "collapsed": false, 
     "input": [], 
     "language": "python", 
     "outputs": [
      {
       "ename": "SyntaxError", 
       "evalue": "invalid syntax (<ipython-input-1-5109dcb894d8>, line 18)", 
       "output_type": "pyerr", 
       "traceback": [
        "\u001b[0;36m  File \u001b[0;32m\"<ipython-input-1-5109dcb894d8>\"\u001b[0;36m, line \u001b[0;32m18\u001b[0m\n\u001b[0;31m    plt.plot(x_fit_man, y_fit_man, lw=\u20192\u2019, label=\u2019Gaussian Fit From Calculated $\\mu$ and $\\sigma$\u2019)\u001b[0m\n\u001b[0m                                      ^\u001b[0m\n\u001b[0;31mSyntaxError\u001b[0m\u001b[0;31m:\u001b[0m invalid syntax\n"
       ]
      }
     ], 
     "prompt_number": 1
    }, 
    {
     "cell_type": "code", 
     "collapsed": true, 
     "input": [], 
     "language": "python", 
     "outputs": []
    }
   ]
  }
 ]
}