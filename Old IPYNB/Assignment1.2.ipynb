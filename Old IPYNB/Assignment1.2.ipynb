{
 "metadata": {
  "name": "Assignment1.2"
 }, 
 "nbformat": 2, 
 "worksheets": [
  {
   "cells": [
    {
     "cell_type": "code", 
     "collapsed": true, 
     "input": [
      "slum = 3.8*10**26", 
      "smass = 2*10**30", 
      "srad = 7*10**8", 
      "dist = 1.5*10**11", 
      "pmass = 1.6726*10**-27", 
      "nmass = 1.6749*10**-27", 
      "k = 1.3806488*10**-23", 
      "pi = 3.14159265359", 
      "G = 6.67384*10**-11"
     ], 
     "language": "python", 
     "outputs": [], 
     "prompt_number": 4
    }, 
    {
     "cell_type": "code", 
     "collapsed": true, 
     "input": [
      "def convert_sy (n):", 
      "    year = (n/(3.1415*10**7))", 
      "    print year"
     ], 
     "language": "python", 
     "outputs": [], 
     "prompt_number": 2
    }, 
    {
     "cell_type": "code", 
     "collapsed": true, 
     "input": [
      "def Mjeans(T, m, ro):", 
      "    Jeans = (((5*k*T)/(G*m))**(3/2))*(3/(4*pi*ro))**.5", 
      "    print Jeans"
     ], 
     "language": "python", 
     "outputs": [], 
     "prompt_number": 5
    }, 
    {
     "cell_type": "code", 
     "collapsed": true, 
     "input": [
      "def Rjeans(T, m, ro):", 
      "    Radius = ((9*k*T)**.5)*((8*pi*G*ro*m)**-.5)", 
      "    print Radius"
     ], 
     "language": "python", 
     "outputs": [], 
     "prompt_number": 6
    }, 
    {
     "cell_type": "code", 
     "collapsed": true, 
     "input": [], 
     "language": "python", 
     "outputs": []
    }
   ]
  }
 ]
}