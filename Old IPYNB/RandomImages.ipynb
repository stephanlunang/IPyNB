{
 "metadata": {
  "name": "RandomImages"
 }, 
 "nbformat": 2, 
 "worksheets": [
  {
   "cells": [
    {
     "cell_type": "code", 
     "collapsed": false, 
     "input": [
      "%pylab inline", 
      "import pyfits,glob", 
      "import scipy.ndimage as snd", 
      "import numpy as np", 
      "from matplotlib.pyplot import *", 
      "#from array import array"
     ], 
     "language": "python", 
     "outputs": [
      {
       "output_type": "stream", 
       "stream": "stdout", 
       "text": [
        "", 
        "Welcome to pylab, a matplotlib-based Python environment [backend: module://IPython.zmq.pylab.backend_inline].", 
        "For more information, type 'help(pylab)'."
       ]
      }
     ], 
     "prompt_number": 1
    }, 
    {
     "cell_type": "code", 
     "collapsed": true, 
     "input": [
      "def reduce_img(img,medflat,medbias):", 
      "    \"Performs bias subtraction and flat field correction for a science image. Returns a reduced image\"", 
      "    redimg = (img-medbias)/(medflat-medbias)", 
      "    redimg = redimg*np.mean(medflat-medbias)", 
      "    return redimg", 
      "", 
      "", 
      "", 
      "def make_catalog(image,sig_thresh,size_thresh):", 
      "    \"Takes in an image and returns a catalog of x/y centers and object sizes, thresholded on signal level and size\"", 
      "    testim=image", 
      "    threshold= 3e3", 
      "    labels,nums=snd.label(image>sig_thresh)", 
      "    centers=snd.center_of_mass(testim,labels,range(1,nums+1))", 
      "    xc=array(centers)[:,0]", 
      "    yc=array(centers)[:,1]", 
      "    slices=snd.find_objects(labels)", 
      "    xs,ys=obj_size(slices)", 
      "    good=where((xs>size_thresh) & (ys>size_thresh))", 
      "    return dict(xc=xc[good],yc=yc[good],xs=xs[good],ys=ys[good])", 
      "", 
      "def mediancomb(filelist):", 
      "    imstack=[]", 
      "    for filename in filelist:", 
      "        im=pyfits.getdata(filename)", 
      "        imstack.append(im)", 
      "    imstack=array(imstack)", 
      "    medimg=median(imstack,axis=0)", 
      "    return medimg", 
      "", 
      "def obj_size(slices):", 
      "    xsizes,ysizes=[],[]", 
      "    for i in range(len(slices)):", 
      "        xsizes.append(slices[i][1].stop-slices[i][1].start)", 
      "        ysizes.append(slices[i][0].stop-slices[i][0].start)", 
      "    return array(xsizes),array(ysizes)", 
      "", 
      "", 
      "def asinh(inputArray, scale_min=None, scale_max=None, non_linear=2.0):", 
      "\t\"\"\"Performs asinh scaling of the input numpy array\"\"\"\t\t", 
      "\timageData=numpy.array(inputArray, copy=True)", 
      "\t", 
      "\tif scale_min == None:", 
      "\t\tscale_min = imageData.min()", 
      "\tif scale_max == None:", 
      "\t\tscale_max = imageData.max()", 
      "\tfactor = numpy.arcsinh((scale_max - scale_min)/non_linear)", 
      "\tindices0 = numpy.where(imageData < scale_min)", 
      "\tindices1 = numpy.where((imageData >= scale_min) & (imageData <= scale_max))", 
      "\tindices2 = numpy.where(imageData > scale_max)", 
      "\timageData[indices0] = 0.0", 
      "\timageData[indices2] = 1.0", 
      "\timageData[indices1] = numpy.arcsinh((imageData[indices1] - scale_min)/non_linear)/factor", 
      "\treturn imageData", 
      "def scale(inputims, stddev):", 
      "    return mean(inputims)+stddev*std(inputims)"
     ], 
     "language": "python", 
     "outputs": [], 
     "prompt_number": 2
    }, 
    {
     "cell_type": "code", 
     "collapsed": false, 
     "input": [
      "filelist = glob.glob(\"home/stepan/Documents/Sum/random/m13.00000000.M_13.FIT\")", 
      "filelist2 = glob.glob(\"Documents/Sum/random/m13.00000001.M_13.FIT\")", 
      "filelistb = glob.glob(\"Documents/Sum/random/m13.00000002.M_13.FIT\") ", 
      "filelistv = glob.glob(\"Documents/Sum/random/m13.00000003.M_13.FIT\") ", 
      "filelisti = glob.glob(\"Documents/Sum/random/m13.00000004.M_13.FIT\") ", 
      "print filelist,'\\n', filelist2,'\\n', filelistb,'\\n', filelistv, '\\n', filelisti", 
      "filelist.sort()", 
      "filelist2.sort()", 
      "filelistb.sort()", 
      "filelisti.sort()", 
      "filelistv.sort()"
     ], 
     "language": "python", 
     "outputs": [
      {
       "output_type": "stream", 
       "stream": "stdout", 
       "text": [
        "[] ", 
        "[] ", 
        "[] ", 
        "[] ", 
        "[]"
       ]
      }
     ], 
     "prompt_number": 9
    }, 
    {
     "cell_type": "code", 
     "collapsed": true, 
     "input": [], 
     "language": "python", 
     "outputs": []
    }
   ]
  }
 ]
}