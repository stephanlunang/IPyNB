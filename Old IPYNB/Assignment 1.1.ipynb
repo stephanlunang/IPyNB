{
 "metadata": {
  "name": "Assignment 1.1"
 }, 
 "nbformat": 2, 
 "worksheets": [
  {
   "cells": [
    {
     "cell_type": "code", 
     "collapsed": true, 
     "input": [
      "slum = 3.8*10**26", 
      "smass = 2*10**30", 
      "srad = 7*10**8", 
      "dist = 1.5*10**11", 
      "pmass = 1.6726*10**-27", 
      "nmass = 1.6749*10**-27", 
      "pi = 3.14159265359"
     ], 
     "language": "python", 
     "outputs": [], 
     "prompt_number": 9
    }, 
    {
     "cell_type": "code", 
     "collapsed": true, 
     "input": [
      "crate = 10**7"
     ], 
     "language": "python", 
     "outputs": [], 
     "prompt_number": 10
    }, 
    {
     "cell_type": "code", 
     "collapsed": true, 
     "input": [
      "slife = (crate*smass)/slum"
     ], 
     "language": "python", 
     "outputs": [], 
     "prompt_number": 11
    }, 
    {
     "cell_type": "code", 
     "collapsed": false, 
     "input": [
      "print slife"
     ], 
     "language": "python", 
     "outputs": [
      {
       "output_type": "stream", 
       "stream": "stdout", 
       "text": [
        "52631578947.4"
       ]
      }
     ], 
     "prompt_number": 12
    }, 
    {
     "cell_type": "code", 
     "collapsed": true, 
     "input": [
      "def convert_sy (n):", 
      "    year = (n/(3.1415*10**7))", 
      "    print year, 'years'"
     ], 
     "language": "python", 
     "outputs": [], 
     "prompt_number": 13
    }, 
    {
     "cell_type": "code", 
     "collapsed": false, 
     "input": [
      "print 'The answer for A is:'", 
      "convert_sy(slife)"
     ], 
     "language": "python", 
     "outputs": [
      {
       "output_type": "stream", 
       "stream": "stdout", 
       "text": [
        "The answer for A is:", 
        "1675.36460122 years"
       ]
      }
     ], 
     "prompt_number": 14
    }, 
    {
     "cell_type": "code", 
     "collapsed": true, 
     "input": [
      "mHE = 6.64619*10**-27", 
      "c = 299792458 "
     ], 
     "language": "python", 
     "outputs": [], 
     "prompt_number": 15
    }, 
    {
     "cell_type": "code", 
     "collapsed": false, 
     "input": [
      "deltam = 4*pmass - mHE", 
      "print deltam"
     ], 
     "language": "python", 
     "outputs": [
      {
       "output_type": "stream", 
       "stream": "stdout", 
       "text": [
        "4.421e-29"
       ]
      }
     ], 
     "prompt_number": 16
    }, 
    {
     "cell_type": "code", 
     "collapsed": false, 
     "input": [
      "Eperreaction = deltam*(c**2)", 
      "print 'The energy released per reaction for part B is: ', Eperreaction, 'Joules/reaction'"
     ], 
     "language": "python", 
     "outputs": [
      {
       "output_type": "stream", 
       "stream": "stdout", 
       "text": [
        "The energy released per reaction for part B is:  3.9733966452e-12 Joules/reaction"
       ]
      }
     ], 
     "prompt_number": 33
    }, 
    {
     "cell_type": "code", 
     "collapsed": false, 
     "input": [
      "numofreact = smass/(4*pmass)", 
      "print numofreact, 'number of reactions'"
     ], 
     "language": "python", 
     "outputs": [
      {
       "output_type": "stream", 
       "stream": "stdout", 
       "text": [
        "2.98935788593e+56 number of reactions"
       ]
      }
     ], 
     "prompt_number": 34
    }, 
    {
     "cell_type": "code", 
     "collapsed": false, 
     "input": [
      "Etotal = Eperreaction*numofreact", 
      "print 'The energy total for part B is:',Etotal, 'Joules'"
     ], 
     "language": "python", 
     "outputs": [
      {
       "output_type": "stream", 
       "stream": "stdout", 
       "text": [
        "The energy total for part B is: 1.18779045952e+45 Joules"
       ]
      }
     ], 
     "prompt_number": 37
    }, 
    {
     "cell_type": "code", 
     "collapsed": false, 
     "input": [
      "slifetime = Etotal/slum ", 
      "print slifetime, 'seconds'"
     ], 
     "language": "python", 
     "outputs": [
      {
       "output_type": "stream", 
       "stream": "stdout", 
       "text": [
        "3.12576436717e+18 seconds"
       ]
      }
     ], 
     "prompt_number": 36
    }, 
    {
     "cell_type": "code", 
     "collapsed": false, 
     "input": [
      "print 'The solar lifetime for part b is:'", 
      "convert_sy(slifetime)"
     ], 
     "language": "python", 
     "outputs": [
      {
       "output_type": "stream", 
       "stream": "stdout", 
       "text": [
        "The solar lifetime for part b is:", 
        "99499104477.6 years"
       ]
      }
     ], 
     "prompt_number": 38
    }, 
    {
     "cell_type": "code", 
     "collapsed": true, 
     "input": [
      "mself = 70 #kg"
     ], 
     "language": "python", 
     "outputs": [], 
     "prompt_number": 39
    }, 
    {
     "cell_type": "code", 
     "collapsed": false, 
     "input": [
      "Eself = mself*(c**2)", 
      "print 'The answer for part c:', Eself, 'Joules of energy in my body'"
     ], 
     "language": "python", 
     "outputs": [
      {
       "output_type": "stream", 
       "stream": "stdout", 
       "text": [
        "The answer for part c: 6291286251157723480 Joules of energy in my body"
       ]
      }
     ], 
     "prompt_number": 40
    }, 
    {
     "cell_type": "code", 
     "collapsed": true, 
     "input": [
      "Houselum = 1000", 
      "Worldlum = 2e12"
     ], 
     "language": "python", 
     "outputs": [], 
     "prompt_number": 24
    }, 
    {
     "cell_type": "code", 
     "collapsed": false, 
     "input": [
      "Thouse = Eself/Houselum", 
      "Tworld = Eself/Worldlum", 
      "print 'The answer for part d:'", 
      "print 'My body would fuel the house for'", 
      "convert_sy(Thouse)", 
      "print 'My body would fuel the world for'", 
      "convert_sy(Tworld)"
     ], 
     "language": "python", 
     "outputs": [
      {
       "output_type": "stream", 
       "stream": "stdout", 
       "text": [
        "The answer for part d:", 
        "My body would fuel the house for", 
        "200263767.345 years", 
        "My body would fuel the world for", 
        "0.100131883673 years"
       ]
      }
     ], 
     "prompt_number": 41
    }, 
    {
     "cell_type": "code", 
     "collapsed": true, 
     "input": [], 
     "language": "python", 
     "outputs": [], 
     "prompt_number": 25
    }, 
    {
     "cell_type": "code", 
     "collapsed": true, 
     "input": [], 
     "language": "python", 
     "outputs": [], 
     "prompt_number": 25
    }, 
    {
     "cell_type": "code", 
     "collapsed": true, 
     "input": [
      "Dsunearth = 1.4960*10**11 "
     ], 
     "language": "python", 
     "outputs": [], 
     "prompt_number": 26
    }, 
    {
     "cell_type": "code", 
     "collapsed": false, 
     "input": [
      "Fluxearth = slum/(4*pi*(Dsunearth**2))", 
      "print Fluxearth, 'kg/s^3'"
     ], 
     "language": "python", 
     "outputs": [
      {
       "output_type": "stream", 
       "stream": "stdout", 
       "text": [
        "1351.17171582 kg/s^3"
       ]
      }
     ], 
     "prompt_number": 27
    }, 
    {
     "cell_type": "code", 
     "collapsed": false, 
     "input": [
      "SolarpanelArea = Worldlum/Fluxearth", 
      "print 'The first part of the answer for part e:'", 
      "print 'We would need a solar panel with perfect efficiency of', SolarpanelArea, 'meters squared in order to power the earth.' "
     ], 
     "language": "python", 
     "outputs": [
      {
       "output_type": "stream", 
       "stream": "stdout", 
       "text": [
        "The first part of the answer for part e:", 
        "We would need a solar panel with perfect efficiency of 1480196762.99 meters squared in order to power the earth."
       ]
      }
     ], 
     "prompt_number": 44
    }, 
    {
     "cell_type": "code", 
     "collapsed": false, 
     "input": [
      "Satarea = Worldlum/(.4*Fluxearth)", 
      "print 'The second part of the answer for part e:'", 
      "print 'With a satellite of 40% efficiency, we would need a solar panel', Satarea, 'meteres squared to power the earth.'"
     ], 
     "language": "python", 
     "outputs": [
      {
       "output_type": "stream", 
       "stream": "stdout", 
       "text": [
        "The second part of the answer for part e:", 
        "With a satellite of 40% efficiency, we would need a solar panel 3700491907.48 meteres squared to power the earth."
       ]
      }
     ], 
     "prompt_number": 45
    }, 
    {
     "cell_type": "code", 
     "collapsed": true, 
     "input": [], 
     "language": "python", 
     "outputs": [], 
     "prompt_number": 29
    }
   ]
  }
 ]
}