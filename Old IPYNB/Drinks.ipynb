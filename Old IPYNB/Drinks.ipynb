{
 "metadata": {
  "name": "Drinks"
 }, 
 "nbformat": 2, 
 "worksheets": [
  {
   "cells": [
    {
     "cell_type": "code", 
     "collapsed": false, 
     "input": [
      "searchfile = open(\"Documents/drinks.txt\", \"r\")", 
      "for line in searchfile:", 
      "    if \"Screaming Orgasm\" in line: ", 
      "        print line", 
      "searchfile.close()"
     ], 
     "language": "python", 
     "outputs": [
      {
       "output_type": "stream", 
       "stream": "stdout", 
       "text": [
        "Screaming Orgasm\t1 part Amaretto, 1 part Bailey's, 1 part Vodka", 
        "", 
        "Screaming Orgasm\t1 part Vodka, 1 part Bailey's, 1 part Amaretto, 1 part Kahlua", 
        "", 
        "Screaming Orgasm\t1 oz Bailey's Irish Cream, 1 oz Triple Sec, 1/2 oz Cognac \t\tOR\t1 oz Vodka, 1.5 oz Bailey's, 1/2 oz Kahlua", 
        ""
       ]
      }
     ], 
     "prompt_number": 5
    }, 
    {
     "cell_type": "code", 
     "collapsed": false, 
     "input": [
      "searchfile = open(\"Desktop/drinks.txt\", \"r\")", 
      "for line in searchfile:", 
      "    if \"Whiskey\" in line: ", 
      "        print line", 
      "searchfile.close()"
     ], 
     "language": "python", 
     "outputs": [
      {
       "output_type": "stream", 
       "stream": "stdout", 
       "text": [
        "Whiskey Old-Fashioned  \t1 Sugar Cube, 1 tsp of Water, 2 dashes of Angostura bitters (Muddle at the bottom) add 1.5 oz of Whiskey, Add 2-3 Ice Cubes, Squeeze a large swatch of thin-cut lemon peels over the top and drop in. Sit for a minute or two before drinking.", 
        "", 
        "The 12-Mile Limit\t1 oz White Rum, .5 oz Rye Whiskey, .5 oz Brandy, .5 oz Grenadine, .5 oz fresh Lemon Juice (Shake in an iced cocktail shaker and strain into a cocktail glass)", 
        "", 
        "The Scofflaw\t\t1 oz Whiskey, 1 oz dry Vermouth, 3/4 oz Grenadine, Dash of Angostura Bitters (Stir ingredients over ice strain into cocktail glass and garnish with an orange twist)", 
        "", 
        "Matthatan\t\t2 oz Whiskey, .5 oz Sweet Vermouth, .5 oz Amaretto, 1/4 Lemon Juice, 1/4 Grenadine", 
        "", 
        "Whiskey Sour\t\t2 oz Blended Whiskey, 1/2 of a Lemon juice, 1/2 tsp powdered sugar, 1 cherry, 1/2 slice of Lemon (Shake first three with ice and strain, decorate with lemon and cherry and serve)", 
        "", 
        "Sazerac\t\t\t1 tsp Sugar, 1.5 oz Rye Whiskey, 1 dash of Absinthe, 2 dashes of Peychaud bitters, 2 dashes of Angostura bitters, 1 twist lemon peel, ice (Chill an old-fashioned glass by filling with crushed ice. In another glass mix the sugar with the bitters dissolving the sugar. Add some ice, stirring to chill. In the old-fashioned glass remove the ice and pour in the absinthe coating the entire glass. Remove the excess absinthe. Add the rye whiskey and bitters/sugar mixture. Add the lemon twist.)", 
        "", 
        "Midori Sour\t\t1 oz Midori, 1 oz Whiskey Sour Mix, 2 oz Sprite, 2 Cherries", 
        "", 
        "Admiral\t\t\t1 oz Rye Whiskey, 2 oz Dry Vermouth, Juice from 1/2 Lemon, 1 Twist Lemon Peel", 
        "", 
        "Blinker\t\t\t1.5 oz Rye Whiskey, 3/4 oz Grapefruit, 1 dash Grenadine", 
        "", 
        "Brooklyn\t\t3/4 oz Sweet Vermouth, 1 oz Rye Whiskey, 2-3 dashes of Maraschino Liqueur", 
        "", 
        "Dandy\t\t\t1/2 oz Rye Whiskey, 1/2 oz Sweet Vermouth, 3 dashes of Cointreau, 1 dash Angostura Bitters", 
        "", 
        "Duck\t\t\t1.5 oz Rye Whiskey, Ginger Ale, Water", 
        "", 
        "Dr. Pecker\t\t2 oz Rye Whiskey, 2 oz Cola, 2 oz Cranberry-Rasberry Juice", 
        "", 
        "Imagination\t\t3 oz Rye Whiskey, 8 oz Ginger Ale, 1 tsp Lime Juice", 
        "", 
        "Ink Street\t\t1/2 oz Rye Whiskey, 1/2 oz Lemon Juice, 1/2 oz Orange Juice", 
        "", 
        "Rye Sour\t\t1.5 oz Rye Whiskey, 1/4 - 3/4 Simple Syrup, 1 oz Lemon Juice", 
        "", 
        "Rye Whiskey Cocktail\t2 oz Rye Whiskey, 1 tsp Powdered Sugar, 1 dash Bitters, 1 Cherry", 
        "", 
        "Slider\t\t\t1 oz Rye Whiskey, 1 oz Kahlua, Top with Milk", 
        "", 
        "Sneaky Pete\t\t1 oz Kahlua, 1 oz Rye Whiskey, 4 oz Milk", 
        "", 
        "Tuna on Rye\t\t1.5 oz Rye Whiskey, 1 oz Sweet Vermouth, 2 oz Ginger Ale"
       ]
      }
     ], 
     "prompt_number": 10
    }, 
    {
     "cell_type": "code", 
     "collapsed": false, 
     "input": [
      "searchfile = open(\"Desktop/drinks.txt\", \"r\")", 
      "for line in searchfile:", 
      "    if \"Schnapps\" in line: ", 
      "        print line", 
      "searchfile.close()"
     ], 
     "language": "python", 
     "outputs": [
      {
       "output_type": "stream", 
       "stream": "stdout", 
       "text": [
        "Slippery Nipples Shot\t\t3/4 oz Butterscotch Schnapps, 3/4 oz Irish Cream Liqeur", 
        "", 
        "Oatmeal Cookie\t\t.5 oz Butterscotch Schnapps, .5 oz Irish Cream Liqeur, .5 oz Jagermeister Liqeur, .5 oz Cinnamon Schnapps", 
        "", 
        "Sex on Daytona Beach\t1 oz Vodka, 1 oz Peach Schnapps, 3 splahes Grenadine syrup, 1/4 Heavy Cream, 4 oz Pineapple Juice", 
        "", 
        "Buttery Nipple\t\t.5 oz Butterscotch Schnapps, 1/4 oz Bailey's, 1/4 oz Midori", 
        "", 
        "Brush Fire \t\t2/3 oz Cinnamon Schnapps, 1/3 oz Tabasco (DRINK QUICKLY!)", 
        "", 
        "Fireball Shooter\t1 part Cinnamon Schnapps, 1 part Bacardi 151, 2 Dashes of Tabasco", 
        "", 
        "Flaming Giraffe\t\t2 oz Kahlua, 1 oz Butterscotch Schnapps, 1 oz 151 Rum", 
        "", 
        "Flaming Gorilla\t\t1 part Peppermint Schnapps, 1 part Kahlua, 1 part Bacardi 151 Rum", 
        "", 
        "Cinnamon Toast Crunch\t1 oz Kahlua, .5 oz Goldschlager Cinnamon Schnapps, .5 oz Bailey's, 1/8 Bacardi 151, dashes of Cinnamon (light bacardi and dash cinnamon on top)", 
        "", 
        "Fuzzy Navel\t\t1 part Peach Schnapps, 1 part Orange Juice, 1 part Lemonade", 
        "", 
        "Cinnamon Nuts and Cream Recipe\t\t1 oz Hazelnut Liqueur, 1/2 oz Cinnamon Schnapps, 1/2 oz Amaretto, 1 oz Cream", 
        "", 
        "Monk's Butt\t\t1 oz Hazelnut Liqueur, 1 oz Butterscotch Schnapps, 1/4 oz Dark Creme de Cacao, Milk", 
        "", 
        "Green Appletini\t\t2 oz Vodka, 1 oz Apple Schnapps, 1 oz Midori, 1 squeeze of lime juice (Garnish with apple slice)", 
        "", 
        "Red Headed Slut\t\t1 oz Peach Schnapps, 1 oz Jagermeister, 1 oz Cranberry Juice"
       ]
      }
     ], 
     "prompt_number": 16
    }, 
    {
     "cell_type": "code", 
     "collapsed": false, 
     "input": [
      "searchfile = open(\"Desktop/drinks.txt\", \"r\")", 
      "for line in searchfile:", 
      "    if \"Cinnamon\" in line: ", 
      "        print line", 
      "searchfile.close()"
     ], 
     "language": "python", 
     "outputs": [
      {
       "output_type": "stream", 
       "stream": "stdout", 
       "text": [
        "Apple Pie Shot\t\t1 oz Vodka, 1 oz Apple Cider, 1 tbsp Whipped Cream, 1 pinch ground Cinnamon", 
        "", 
        "Oatmeal Cookie\t\t.5 oz Butterscotch Schnapps, .5 oz Irish Cream Liqeur, .5 oz Jagermeister Liqeur, .5 oz Cinnamon Schnapps", 
        "", 
        "Brush Fire \t\t2/3 oz Cinnamon Schnapps, 1/3 oz Tabasco (DRINK QUICKLY!)", 
        "", 
        "Fireball Shooter\t1 part Cinnamon Schnapps, 1 part Bacardi 151, 2 Dashes of Tabasco", 
        "", 
        "Cinnamon Toast Crunch\t1 oz Kahlua, .5 oz Goldschlager Cinnamon Schnapps, .5 oz Bailey's, 1/8 Bacardi 151, dashes of Cinnamon (light bacardi and dash cinnamon on top)", 
        "", 
        "Cinnamon Nuts and Cream Recipe\t\t1 oz Hazelnut Liqueur, 1/2 oz Cinnamon Schnapps, 1/2 oz Amaretto, 1 oz Cream"
       ]
      }
     ], 
     "prompt_number": 19
    }, 
    {
     "cell_type": "code", 
     "collapsed": false, 
     "input": [
      "searchfile = open(\"Desktop/drinks.txt\", \"r\")", 
      "for line in searchfile:", 
      "    if \"Whiskey\" in line: ", 
      "        print line", 
      "searchfile.close()"
     ], 
     "language": "python", 
     "outputs": [
      {
       "output_type": "stream", 
       "stream": "stdout", 
       "text": [
        "Whiskey Old-Fashioned  \t1 Sugar Cube, 1 tsp of Water, 2 dashes of Angostura bitters (Muddle at the bottom) add 1.5 oz of Whiskey, Add 2-3 Ice Cubes, Squeeze a large swatch of thin-cut lemon peels over the top and drop in. Sit for a minute or two before drinking.", 
        "", 
        "The 12-Mile Limit\t1 oz White Rum, .5 oz Rye Whiskey, .5 oz Brandy, .5 oz Grenadine, .5 oz fresh Lemon Juice (Shake in an iced cocktail shaker and strain into a cocktail glass)", 
        "", 
        "The Scofflaw\t\t1 oz Whiskey, 1 oz dry Vermouth, 3/4 oz Grenadine, Dash of Angostura Bitters (Stir ingredients over ice strain into cocktail glass and garnish with an orange twist)", 
        "", 
        "Matthatan\t\t2 oz Whiskey, .5 oz Sweet Vermouth, .5 oz Amaretto, 1/4 Lemon Juice, 1/4 Grenadine", 
        "", 
        "Whiskey Sour\t\t2 oz Blended Whiskey, 1/2 of a Lemon juice, 1/2 tsp powdered sugar, 1 cherry, 1/2 slice of Lemon (Shake first three with ice and strain, decorate with lemon and cherry and serve)", 
        "", 
        "Sazerac\t\t\t1 tsp Sugar, 1.5 oz Rye Whiskey, 1 dash of Absinthe, 2 dashes of Peychaud bitters, 2 dashes of Angostura bitters, 1 twist lemon peel, ice (Chill an old-fashioned glass by filling with crushed ice. In another glass mix the sugar with the bitters dissolving the sugar. Add some ice, stirring to chill. In the old-fashioned glass remove the ice and pour in the absinthe coating the entire glass. Remove the excess absinthe. Add the rye whiskey and bitters/sugar mixture. Add the lemon twist.)", 
        "", 
        "Midori Sour\t\t1 oz Midori, 1 oz Whiskey Sour Mix, 2 oz Sprite, 2 Cherries", 
        "", 
        "Admiral\t\t\t1 oz Rye Whiskey, 2 oz Dry Vermouth, Juice from 1/2 Lemon, 1 Twist Lemon Peel", 
        "", 
        "Blinker\t\t\t1.5 oz Rye Whiskey, 3/4 oz Grapefruit, 1 dash Grenadine", 
        "", 
        "Brooklyn\t\t3/4 oz Sweet Vermouth, 1 oz Rye Whiskey, 2-3 dashes of Maraschino Liqueur", 
        "", 
        "Dandy\t\t\t1/2 oz Rye Whiskey, 1/2 oz Sweet Vermouth, 3 dashes of Cointreau, 1 dash Angostura Bitters", 
        "", 
        "Duck\t\t\t1.5 oz Rye Whiskey, Ginger Ale, Water", 
        "", 
        "Dr. Pecker\t\t2 oz Rye Whiskey, 2 oz Cola, 2 oz Cranberry-Rasberry Juice", 
        "", 
        "Imagination\t\t3 oz Rye Whiskey, 8 oz Ginger Ale, 1 tsp Lime Juice", 
        "", 
        "Ink Street\t\t1/2 oz Rye Whiskey, 1/2 oz Lemon Juice, 1/2 oz Orange Juice", 
        "", 
        "Rye Sour\t\t1.5 oz Rye Whiskey, 1/4 - 3/4 Simple Syrup, 1 oz Lemon Juice", 
        "", 
        "Rye Whiskey Cocktail\t2 oz Rye Whiskey, 1 tsp Powdered Sugar, 1 dash Bitters, 1 Cherry", 
        "", 
        "Slider\t\t\t1 oz Rye Whiskey, 1 oz Kahlua, Top with Milk", 
        "", 
        "Sneaky Pete\t\t1 oz Kahlua, 1 oz Rye Whiskey, 4 oz Milk", 
        "", 
        "Tuna on Rye\t\t1.5 oz Rye Whiskey, 1 oz Sweet Vermouth, 2 oz Ginger Ale"
       ]
      }
     ], 
     "prompt_number": 13
    }, 
    {
     "cell_type": "code", 
     "collapsed": false, 
     "input": [
      "searchfile = open(\"Desktop/drinks.txt\", \"r\")", 
      "for line in searchfile:", 
      "    if \"Whiskey\" in line: ", 
      "        print line", 
      "searchfile.close()"
     ], 
     "language": "python", 
     "outputs": [
      {
       "output_type": "stream", 
       "stream": "stdout", 
       "text": [
        "Whiskey Old-Fashioned  \t1 Sugar Cube, 1 tsp of Water, 2 dashes of Angostura bitters (Muddle at the bottom) add 1.5 oz of Whiskey, Add 2-3 Ice Cubes, Squeeze a large swatch of thin-cut lemon peels over the top and drop in. Sit for a minute or two before drinking.", 
        "", 
        "The 12-Mile Limit\t1 oz White Rum, .5 oz Rye Whiskey, .5 oz Brandy, .5 oz Grenadine, .5 oz fresh Lemon Juice (Shake in an iced cocktail shaker and strain into a cocktail glass)", 
        "", 
        "The Scofflaw\t\t1 oz Whiskey, 1 oz dry Vermouth, 3/4 oz Grenadine, Dash of Angostura Bitters (Stir ingredients over ice strain into cocktail glass and garnish with an orange twist)", 
        "", 
        "Matthatan\t\t2 oz Whiskey, .5 oz Sweet Vermouth, .5 oz Amaretto, 1/4 Lemon Juice, 1/4 Grenadine", 
        "", 
        "Whiskey Sour\t\t2 oz Blended Whiskey, 1/2 of a Lemon juice, 1/2 tsp powdered sugar, 1 cherry, 1/2 slice of Lemon (Shake first three with ice and strain, decorate with lemon and cherry and serve)", 
        "", 
        "Sazerac\t\t\t1 tsp Sugar, 1.5 oz Rye Whiskey, 1 dash of Absinthe, 2 dashes of Peychaud bitters, 2 dashes of Angostura bitters, 1 twist lemon peel, ice (Chill an old-fashioned glass by filling with crushed ice. In another glass mix the sugar with the bitters dissolving the sugar. Add some ice, stirring to chill. In the old-fashioned glass remove the ice and pour in the absinthe coating the entire glass. Remove the excess absinthe. Add the rye whiskey and bitters/sugar mixture. Add the lemon twist.)", 
        "", 
        "Midori Sour\t\t1 oz Midori, 1 oz Whiskey Sour Mix, 2 oz Sprite, 2 Cherries", 
        "", 
        "Admiral\t\t\t1 oz Rye Whiskey, 2 oz Dry Vermouth, Juice from 1/2 Lemon, 1 Twist Lemon Peel", 
        "", 
        "Blinker\t\t\t1.5 oz Rye Whiskey, 3/4 oz Grapefruit, 1 dash Grenadine", 
        "", 
        "Brooklyn\t\t3/4 oz Sweet Vermouth, 1 oz Rye Whiskey, 2-3 dashes of Maraschino Liqueur", 
        "", 
        "Dandy\t\t\t1/2 oz Rye Whiskey, 1/2 oz Sweet Vermouth, 3 dashes of Cointreau, 1 dash Angostura Bitters", 
        "", 
        "Duck\t\t\t1.5 oz Rye Whiskey, Ginger Ale, Water", 
        "", 
        "Dr. Pecker\t\t2 oz Rye Whiskey, 2 oz Cola, 2 oz Cranberry-Rasberry Juice", 
        "", 
        "Imagination\t\t3 oz Rye Whiskey, 8 oz Ginger Ale, 1 tsp Lime Juice", 
        "", 
        "Ink Street\t\t1/2 oz Rye Whiskey, 1/2 oz Lemon Juice, 1/2 oz Orange Juice", 
        "", 
        "Rye Sour\t\t1.5 oz Rye Whiskey, 1/4 - 3/4 Simple Syrup, 1 oz Lemon Juice", 
        "", 
        "Rye Whiskey Cocktail\t2 oz Rye Whiskey, 1 tsp Powdered Sugar, 1 dash Bitters, 1 Cherry", 
        "", 
        "Slider\t\t\t1 oz Rye Whiskey, 1 oz Kahlua, Top with Milk", 
        "", 
        "Sneaky Pete\t\t1 oz Kahlua, 1 oz Rye Whiskey, 4 oz Milk", 
        "", 
        "Tuna on Rye\t\t1.5 oz Rye Whiskey, 1 oz Sweet Vermouth, 2 oz Ginger Ale"
       ]
      }
     ], 
     "prompt_number": 14
    }, 
    {
     "cell_type": "code", 
     "collapsed": true, 
     "input": [], 
     "language": "python", 
     "outputs": []
    }
   ]
  }
 ]
}