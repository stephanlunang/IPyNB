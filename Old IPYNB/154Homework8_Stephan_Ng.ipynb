{
 "metadata": {
  "name": "154Homework8_Stephan_Ng"
 }, 
 "nbformat": 2, 
 "worksheets": [
  {
   "cells": [
    {
     "cell_type": "code", 
     "collapsed": false, 
     "input": [
      "%pylab inline", 
      "from numpy import *", 
      "from matplotlib.pyplot import *", 
      "from scipy.optimize import leastsq", 
      "", 
      "slum = 3.8*10**26", 
      "smass = 2*10**30", 
      "srad = 7*10**8", 
      "dist = 1.5*10**11", 
      "pmass = 1.6726*10**-27", 
      "nmass = 1.6749*10**-27", 
      "k = 1.3806488*10**-23", 
      "pi = 3.14159265359", 
      "G = 6.67384*10**-11", 
      "mHE = 6.64619*10**-27", 
      "c = 299792458 ", 
      "e = 2.71828", 
      "sigma = 5.67037321*10**-8 ", 
      "a = .3", 
      "erad = 6367444.7", 
      "Tsun = 5777 #K", 
      "Flux = sigma*Tsun**4 #W/m^2", 
      "Fearth = (Flux*4*pi*(srad**2))/(4*pi*(dist**2))"
     ], 
     "language": "python", 
     "outputs": [
      {
       "output_type": "stream", 
       "stream": "stdout", 
       "text": [
        "", 
        "Welcome to pylab, a matplotlib-based Python environment [backend: module://IPython.zmq.pylab.backend_inline].", 
        "For more information, type 'help(pylab)'."
       ]
      }
     ], 
     "prompt_number": 1
    }, 
    {
     "cell_type": "code", 
     "collapsed": false, 
     "input": [
      "print Fearth, 'W/m^2'"
     ], 
     "language": "python", 
     "outputs": [
      {
       "output_type": "stream", 
       "stream": "stdout", 
       "text": [
        "1375.41791286 W/m^2"
       ]
      }
     ], 
     "prompt_number": 2
    }, 
    {
     "cell_type": "code", 
     "collapsed": true, 
     "input": [
      "Energy = (1-a)*Fearth*(pi*erad**2)"
     ], 
     "language": "python", 
     "outputs": [], 
     "prompt_number": 3
    }, 
    {
     "cell_type": "code", 
     "collapsed": false, 
     "input": [
      "print Energy, 'W'"
     ], 
     "language": "python", 
     "outputs": [
      {
       "output_type": "stream", 
       "stream": "stdout", 
       "text": [
        "1.22634581287e+17 W"
       ]
      }
     ], 
     "prompt_number": 4
    }, 
    {
     "cell_type": "code", 
     "collapsed": true, 
     "input": [
      "etemp = (Energy/(4*pi*(erad**2)*sigma))**(.25)"
     ], 
     "language": "python", 
     "outputs": [], 
     "prompt_number": 5
    }, 
    {
     "cell_type": "code", 
     "collapsed": false, 
     "input": [
      "print 'The blackbody temperature on the earth is', etemp, 'K.'"
     ], 
     "language": "python", 
     "outputs": [
      {
       "output_type": "stream", 
       "stream": "stdout", 
       "text": [
        "The blackbody temperature on the earth is 255.249717554 K."
       ]
      }
     ], 
     "prompt_number": 110
    }, 
    {
     "cell_type": "code", 
     "collapsed": false, 
     "input": [
      "etemp2 = (((1-a)*Fearth*pi*(erad**2))/(4*pi*(erad**2)*sigma-((1-a)*4*pi*(erad**2)*sigma)))**(.25)", 
      "print 'Greenhouse gases (one bounce)', etemp2, 'K'", 
      "print 'The temperature difference is', (etemp2-(15+272.15)), 'K'"
     ], 
     "language": "python", 
     "outputs": [
      {
       "output_type": "stream", 
       "stream": "stdout", 
       "text": [
        "Greenhouse gases (one bounce) 344.893457874 K", 
        "The temperature difference is 57.7434578739 K"
       ]
      }
     ], 
     "prompt_number": 109
    }, 
    {
     "cell_type": "code", 
     "collapsed": false, 
     "input": [
      "etemp3 = ((((1-a)*Fearth*pi*(erad**2)) + ((1-a)*4*pi*etemp*(erad**2)))/(4*pi*erad**2*sigma))**(.25)", 
      "print 'For the second bounce the temperature is', etemp3, 'K'"
     ], 
     "language": "python", 
     "outputs": [
      {
       "output_type": "stream", 
       "stream": "stdout", 
       "text": [
        "For the second bounce the temperature is 293.256190936 K"
       ]
      }
     ], 
     "prompt_number": 8
    }, 
    {
     "cell_type": "code", 
     "collapsed": true, 
     "input": [], 
     "language": "python", 
     "outputs": [], 
     "prompt_number": 8
    }, 
    {
     "cell_type": "code", 
     "collapsed": false, 
     "input": [
      "#from scipy.integrate import quad", 
      "", 
      "", 
      "print 'formula given is integral((((1-a(lambda))*2*h*c**2)/lambda**5)/(e**((h*c)/(lambda*k*T)) - 1))dlambda) from 0 to infinity'", 
      "#expected flux or F_sun = pi times integral", 
      "", 
      "#F_e = F_sun*((4*pi*srad**2)/(4*pi*d**2))"
     ], 
     "language": "python", 
     "outputs": [
      {
       "output_type": "stream", 
       "stream": "stdout", 
       "text": [
        "formula given is integral((((1-a(lambda))*2*h*c**2)/lambda**5)/(e**((h*c)/(lambda*k*T)) - 1))dlambda) from 0 to infinity"
       ]
      }
     ], 
     "prompt_number": 113
    }, 
    {
     "cell_type": "code", 
     "collapsed": false, 
     "input": [
      "print 'The larger a(lambda) means larger absorbtion therefore it would show the influence of the the increased concentration of greenhouse gases. The most prominent greenhouse gas is water vapor because it has the most absorbtion and scattering, however it is a self regulating system therefore is not worrysome.  The most problematic is CO2 because it has the largest amount of total absorbtion of the non self-regulating systems.'"
     ], 
     "language": "python", 
     "outputs": [
      {
       "output_type": "stream", 
       "stream": "stdout", 
       "text": [
        "The larger a(lambda) means larger absorbtion therefore it would show the influence of the the increased concentration of greenhouse gases. The most prominent greenhouse gas is water vapor because it has the most absorbtion and scattering, however it is a self regulating system therefore is not worrysome.  The most problematic is CO2 because it has the largest amount of total absorbtion of the non self-regulating systems."
       ]
      }
     ], 
     "prompt_number": 117
    }, 
    {
     "cell_type": "code", 
     "collapsed": true, 
     "input": [
      "print 'Yes we are in trouble.'"
     ], 
     "language": "python", 
     "outputs": []
    }, 
    {
     "cell_type": "code", 
     "collapsed": true, 
     "input": [], 
     "language": "python", 
     "outputs": []
    }, 
    {
     "cell_type": "code", 
     "collapsed": true, 
     "input": [], 
     "language": "python", 
     "outputs": []
    }, 
    {
     "cell_type": "code", 
     "collapsed": true, 
     "input": [], 
     "language": "python", 
     "outputs": []
    }, 
    {
     "cell_type": "code", 
     "collapsed": true, 
     "input": [], 
     "language": "python", 
     "outputs": []
    }, 
    {
     "cell_type": "code", 
     "collapsed": true, 
     "input": [], 
     "language": "python", 
     "outputs": []
    }, 
    {
     "cell_type": "code", 
     "collapsed": true, 
     "input": [], 
     "language": "python", 
     "outputs": []
    }, 
    {
     "cell_type": "code", 
     "collapsed": true, 
     "input": [], 
     "language": "python", 
     "outputs": []
    }, 
    {
     "cell_type": "code", 
     "collapsed": true, 
     "input": [], 
     "language": "python", 
     "outputs": []
    }, 
    {
     "cell_type": "code", 
     "collapsed": true, 
     "input": [], 
     "language": "python", 
     "outputs": []
    }, 
    {
     "cell_type": "code", 
     "collapsed": true, 
     "input": [], 
     "language": "python", 
     "outputs": []
    }, 
    {
     "cell_type": "code", 
     "collapsed": true, 
     "input": [], 
     "language": "python", 
     "outputs": []
    }, 
    {
     "cell_type": "code", 
     "collapsed": true, 
     "input": [], 
     "language": "python", 
     "outputs": []
    }, 
    {
     "cell_type": "code", 
     "collapsed": true, 
     "input": [], 
     "language": "python", 
     "outputs": []
    }, 
    {
     "cell_type": "code", 
     "collapsed": true, 
     "input": [], 
     "language": "python", 
     "outputs": []
    }, 
    {
     "cell_type": "code", 
     "collapsed": true, 
     "input": [], 
     "language": "python", 
     "outputs": []
    }, 
    {
     "cell_type": "code", 
     "collapsed": true, 
     "input": [], 
     "language": "python", 
     "outputs": []
    }, 
    {
     "cell_type": "code", 
     "collapsed": true, 
     "input": [], 
     "language": "python", 
     "outputs": []
    }, 
    {
     "cell_type": "code", 
     "collapsed": true, 
     "input": [], 
     "language": "python", 
     "outputs": []
    }, 
    {
     "cell_type": "code", 
     "collapsed": true, 
     "input": [], 
     "language": "python", 
     "outputs": []
    }, 
    {
     "cell_type": "code", 
     "collapsed": true, 
     "input": [], 
     "language": "python", 
     "outputs": []
    }, 
    {
     "cell_type": "code", 
     "collapsed": true, 
     "input": [], 
     "language": "python", 
     "outputs": []
    }, 
    {
     "cell_type": "code", 
     "collapsed": true, 
     "input": [], 
     "language": "python", 
     "outputs": []
    }, 
    {
     "cell_type": "code", 
     "collapsed": true, 
     "input": [], 
     "language": "python", 
     "outputs": []
    }, 
    {
     "cell_type": "code", 
     "collapsed": true, 
     "input": [], 
     "language": "python", 
     "outputs": []
    }, 
    {
     "cell_type": "code", 
     "collapsed": false, 
     "input": [
      "#year, T, preap, show, NINOS = loadtext('Desktop/calidata_final.dat', usecds =(0,1,2,3,4), unpack = True)"
     ], 
     "language": "python", 
     "outputs": []
    }, 
    {
     "cell_type": "code", 
     "collapsed": false, 
     "input": [], 
     "language": "python", 
     "outputs": []
    }, 
    {
     "cell_type": "code", 
     "collapsed": true, 
     "input": [
      "year, T, precip, snow, NINOS = loadtxt('Desktop/calidata_final.dat', usecols = (0,1,2,3,4), unpack = True)"
     ], 
     "language": "python", 
     "outputs": [], 
     "prompt_number": 10
    }, 
    {
     "cell_type": "code", 
     "collapsed": false, 
     "input": [
      "print year"
     ], 
     "language": "python", 
     "outputs": [
      {
       "output_type": "stream", 
       "stream": "stdout", 
       "text": [
        "[ 1970.  1971.  1972.  1973.  1974.  1975.  1976.  1977.  1978.  1979.", 
        "  1980.  1981.  1982.  1983.  1984.  1985.  1986.  1987.  1988.  1989.", 
        "  1990.  1991.  1992.  1993.  1994.  1995.  1996.  1997.  1998.  1999.", 
        "  2000.  2001.  2002.  2003.  2004.  2005.  2006.  2007.]"
       ]
      }
     ], 
     "prompt_number": 15
    }, 
    {
     "cell_type": "code", 
     "collapsed": false, 
     "input": [], 
     "language": "python", 
     "outputs": [], 
     "prompt_number": 15
    }, 
    {
     "cell_type": "code", 
     "collapsed": false, 
     "input": [
      "figure(figsize = (10,10))", 
      "title('Years vs NINO3')", 
      "xlabel('Years')", 
      "ylabel('NINO3')", 
      "plot(year,NINOS, \"b\")"
     ], 
     "language": "python", 
     "outputs": [
      {
       "output_type": "pyout", 
       "prompt_number": 21, 
       "text": [
        "[<matplotlib.lines.Line2D at 0x3e93150>]"
       ]
      }, 
      {
       "output_type": "display_data", 
       "png": "[encoded data removed]"
      }
     ], 
     "prompt_number": 21
    }, 
    {
     "cell_type": "code", 
     "collapsed": false, 
     "input": [
      "print 'These are the years that in which the largest El Nino events occured'", 
      "for i in range(0,len(NINOS)):", 
      "    if (NINOS[i]>.9):", 
      "        print year[i]"
     ], 
     "language": "python", 
     "outputs": [
      {
       "output_type": "stream", 
       "stream": "stdout", 
       "text": [
        "These are the years that in which the largest El Nino events occured", 
        "1973.0", 
        "1983.0", 
        "1987.0", 
        "1992.0", 
        "1998.0"
       ]
      }
     ], 
     "prompt_number": 25
    }, 
    {
     "cell_type": "code", 
     "collapsed": false, 
     "input": [
      "print 'For the max el Nino years, the values for the temperature and precipitation are shown below.\\n'", 
      "for i in range(0,len(NINOS)):", 
      "    if (NINOS[i]>.9):", 
      "        print 'Year:', year[i], 'The temperature is:', T[i], 'Precipitation', precip[i]", 
      "", 
      "        ", 
      "        ", 
      "print '\\nYears for max temperature.'", 
      "for i in range(0,len(T)):", 
      "    if (T[i]>7.15):", 
      "        print 'Year:', year[i], 'the temperature for that year was:', T[i], 'C'", 
      "        for j in range(0, len(years)):", 
      "            if (year[i] == years[j]):", 
      "                print year[i]", 
      "        ", 
      "        ", 
      "print '\\nYears for max precipitation.'", 
      "for i in range(0,len(precip)):", 
      "    if (precip[i]>442):", 
      "        print 'Year:', year[i], 'the precipitation for that year was:', precip[i], 'mm'"
     ], 
     "language": "python", 
     "outputs": [
      {
       "output_type": "stream", 
       "stream": "stdout", 
       "text": [
        "For the max el Nino years, the values for the temperature and precipitation are shown below.", 
        "", 
        "Year: 1973.0 The temperature is: 4.4844 Precipitation 366.2934", 
        "Year: 1983.0 The temperature is: 6.0384 Precipitation 443.2554", 
        "Year: 1987.0 The temperature is: 5.67765 Precipitation 193.0908", 
        "Year: 1992.0 The temperature is: 6.438 Precipitation 270.3068", 
        "Year: 1998.0 The temperature is: 5.7942 Precipitation 538.8356", 
        "", 
        "Years for max temperature.", 
        "Year: 1980.0 the temperature for that year was: 7.32045 C", 
        "Year: 1981.0 the temperature for that year was: 7.5591 C", 
        "Year: 1986.0 the temperature for that year was: 7.3815 C", 
        "Year: 1996.0 the temperature for that year was: 7.5258 C", 
        "Year: 2003.0 the temperature for that year was: 7.23165 C", 
        "", 
        "Years for max precipitation.", 
        "Year: 1978.0 the precipitation for that year was: 493.4204 mm", 
        "Year: 1983.0 the precipitation for that year was: 443.2554 mm", 
        "Year: 1993.0 the precipitation for that year was: 544.8554 mm", 
        "Year: 1997.0 the precipitation for that year was: 442.2394 mm", 
        "Year: 1998.0 the precipitation for that year was: 538.8356 mm"
       ]
      }
     ], 
     "prompt_number": 81
    }, 
    {
     "cell_type": "code", 
     "collapsed": false, 
     "input": [
      "figure(figsize = (10,10))", 
      "title('Years vs NINO3')", 
      "xlabel('Years')", 
      "Tnew = 70*T", 
      "plot(year,Tnew, \"b\", label = 'Temperature')", 
      "plot(year,precip, \"r\", label = 'Precipitation')", 
      "legend()"
     ], 
     "language": "python", 
     "outputs": [
      {
       "output_type": "pyout", 
       "prompt_number": 53, 
       "text": [
        "<matplotlib.legend.Legend at 0x5e26ad0>"
       ]
      }, 
      {
       "output_type": "display_data", 
       "png": "[encoded data removed]"
      }
     ], 
     "prompt_number": 53
    }, 
    {
     "cell_type": "code", 
     "collapsed": false, 
     "input": [
      "print 'The precipitation relates somewhat to the strongest El Nino events in that there are some overlapping years, however, it seems like for the most part that they are unrealated.'"
     ], 
     "language": "python", 
     "outputs": [
      {
       "output_type": "stream", 
       "stream": "stdout", 
       "text": [
        "The precipitation relates somewhat to the strongest El Nino events in that there are some overlapping years, however, it seems like for the most part that they are unrealated."
       ]
      }
     ], 
     "prompt_number": 82
    }, 
    {
     "cell_type": "code", 
     "collapsed": false, 
     "input": [
      "print 'The temperature has no correlation visible with the strong El Nino events.'"
     ], 
     "language": "python", 
     "outputs": [
      {
       "output_type": "stream", 
       "stream": "stdout", 
       "text": [
        "The temperature has no correlation visible with the strong El Nino events."
       ]
      }
     ], 
     "prompt_number": 83
    }, 
    {
     "cell_type": "code", 
     "collapsed": true, 
     "input": [], 
     "language": "python", 
     "outputs": []
    }, 
    {
     "cell_type": "code", 
     "collapsed": false, 
     "input": [
      "from scipy.stats import *"
     ], 
     "language": "python", 
     "outputs": [], 
     "prompt_number": 94
    }, 
    {
     "cell_type": "code", 
     "collapsed": false, 
     "input": [
      "print 'The correlation coefficient between temperature and the el nino years is:', pearsonr(T, NINOS)[0] ", 
      "print 'The correlation coefficient between precipitation and the el nino years is:', pearsonr(precip, NINOS)[0]", 
      "print 'The correlation coefficient between snow and the el nino years is:', pearsonr(snow, NINOS)[0]"
     ], 
     "language": "python", 
     "outputs": [
      {
       "output_type": "stream", 
       "stream": "stdout", 
       "text": [
        "The correlation coefficient between temperature and the el nino years is: 0.00511244585807", 
        "The correlation coefficient between precipitation and the el nino years is: 0.37712170126", 
        "The correlation coefficient between snow and the el nino years is: 0.141972307605"
       ]
      }
     ], 
     "prompt_number": 101
    }, 
    {
     "cell_type": "code", 
     "collapsed": false, 
     "input": [
      "print 'These results suggest that temperature is unrelated to the el Nino year while precipitation is a major indicator.'", 
      "print 'The snow and precipitation are on the same order of magnitude of correlation, but the precipitation is more correlation to large el Nino events than snow does.'"
     ], 
     "language": "python", 
     "outputs": [
      {
       "output_type": "stream", 
       "stream": "stdout", 
       "text": [
        "These results suggest that temperature is unrelated to the el Nino year while precipitation is a major indicator.", 
        "The snow and precipitation are on the same order of magnitude of correlation, but the precipitation is more correlation to large el Nino events than snow does."
       ]
      }
     ], 
     "prompt_number": 102
    }, 
    {
     "cell_type": "code", 
     "collapsed": false, 
     "input": [
      "print 'Yes it agrees with the maps show.  This is because the maps show it being wetter which corresponds to a higher precipitation which is what we see.'"
     ], 
     "language": "python", 
     "outputs": [
      {
       "output_type": "stream", 
       "stream": "stdout", 
       "text": [
        "Yes it agrees with the maps show.  This is because the maps show it being wetter which corresponds to a higher precipitation which is what we see."
       ]
      }
     ], 
     "prompt_number": 103
    }, 
    {
     "cell_type": "code", 
     "collapsed": true, 
     "input": [], 
     "language": "python", 
     "outputs": []
    }, 
    {
     "cell_type": "code", 
     "collapsed": false, 
     "input": [
      "print 'The graphic shows a changing temperature gradient in the middle of the map with the areas on the top and bottom being consistenly cold.  It appears that the temperature is increasing therefore we are in a warm event.'"
     ], 
     "language": "python", 
     "outputs": [
      {
       "output_type": "stream", 
       "stream": "stdout", 
       "text": [
        "The graphic shows a changing temperature gradient in the middle of the map with the areas on the top and bottom being consistenly cold.  It appears that the temperature is increasing therefore we are in a warm event."
       ]
      }
     ], 
     "prompt_number": 104
    }, 
    {
     "cell_type": "code", 
     "collapsed": true, 
     "input": [], 
     "language": "python", 
     "outputs": []
    }, 
    {
     "cell_type": "code", 
     "collapsed": true, 
     "input": [], 
     "language": "python", 
     "outputs": []
    }, 
    {
     "cell_type": "code", 
     "collapsed": true, 
     "input": [], 
     "language": "python", 
     "outputs": []
    }, 
    {
     "cell_type": "code", 
     "collapsed": true, 
     "input": [], 
     "language": "python", 
     "outputs": []
    }, 
    {
     "cell_type": "code", 
     "collapsed": true, 
     "input": [], 
     "language": "python", 
     "outputs": []
    }, 
    {
     "cell_type": "code", 
     "collapsed": true, 
     "input": [], 
     "language": "python", 
     "outputs": []
    }, 
    {
     "cell_type": "code", 
     "collapsed": true, 
     "input": [], 
     "language": "python", 
     "outputs": []
    }, 
    {
     "cell_type": "code", 
     "collapsed": true, 
     "input": [], 
     "language": "python", 
     "outputs": []
    }, 
    {
     "cell_type": "code", 
     "collapsed": true, 
     "input": [], 
     "language": "python", 
     "outputs": [], 
     "prompt_number": 13
    }, 
    {
     "cell_type": "code", 
     "collapsed": true, 
     "input": [], 
     "language": "python", 
     "outputs": [], 
     "prompt_number": 13
    }, 
    {
     "cell_type": "code", 
     "collapsed": true, 
     "input": [], 
     "language": "python", 
     "outputs": [], 
     "prompt_number": 13
    }, 
    {
     "cell_type": "code", 
     "collapsed": true, 
     "input": [], 
     "language": "python", 
     "outputs": [], 
     "prompt_number": 13
    }, 
    {
     "cell_type": "code", 
     "collapsed": true, 
     "input": [], 
     "language": "python", 
     "outputs": [], 
     "prompt_number": 13
    }, 
    {
     "cell_type": "code", 
     "collapsed": true, 
     "input": [], 
     "language": "python", 
     "outputs": [], 
     "prompt_number": 13
    }, 
    {
     "cell_type": "code", 
     "collapsed": true, 
     "input": [], 
     "language": "python", 
     "outputs": [], 
     "prompt_number": 13
    }, 
    {
     "cell_type": "code", 
     "collapsed": true, 
     "input": [], 
     "language": "python", 
     "outputs": [], 
     "prompt_number": 13
    }, 
    {
     "cell_type": "code", 
     "collapsed": true, 
     "input": [], 
     "language": "python", 
     "outputs": [], 
     "prompt_number": 13
    }, 
    {
     "cell_type": "code", 
     "collapsed": true, 
     "input": [], 
     "language": "python", 
     "outputs": [], 
     "prompt_number": 13
    }, 
    {
     "cell_type": "code", 
     "collapsed": true, 
     "input": [], 
     "language": "python", 
     "outputs": [], 
     "prompt_number": 13
    }, 
    {
     "cell_type": "code", 
     "collapsed": true, 
     "input": [], 
     "language": "python", 
     "outputs": [], 
     "prompt_number": 13
    }, 
    {
     "cell_type": "code", 
     "collapsed": true, 
     "input": [], 
     "language": "python", 
     "outputs": [], 
     "prompt_number": 13
    }, 
    {
     "cell_type": "code", 
     "collapsed": true, 
     "input": [], 
     "language": "python", 
     "outputs": [], 
     "prompt_number": 13
    }, 
    {
     "cell_type": "code", 
     "collapsed": false, 
     "input": [], 
     "language": "python", 
     "outputs": [], 
     "prompt_number": 103
    }, 
    {
     "cell_type": "code", 
     "collapsed": true, 
     "input": [], 
     "language": "python", 
     "outputs": []
    }
   ]
  }
 ]
}