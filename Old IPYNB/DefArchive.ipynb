{
 "metadata": {
  "name": "DefArchive"
 }, 
 "nbformat": 2, 
 "worksheets": [
  {
   "cells": [
    {
     "cell_type": "code", 
     "collapsed": true, 
     "input": [
      "def Masscomp(x):", 
      "    if x>SolR:", 
      "        print 'It has a greater mass than the sun!'", 
      "    if x<SolR:", 
      "        print 'It has less mass than the sun!'", 
      "        ", 
      "def convert_sy (n):", 
      "    year = (n/(3.1415*10**7))", 
      "    print year", 
      "    ", 
      "    ", 
      "def Mjeans(T, m, ro):", 
      "    Jeans = (((5*k*T)/(G*m))**(3/2))*(3/(4*pi*ro))**.5", 
      "    print Jeans", 
      "    ", 
      "def Rjeans(T, m, ro):", 
      "    Radius = ((9*k*T)**.5)*((8*pi*G*ro*m)**-.5)", 
      "    print Radius", 
      "    ", 
      "def CelKel(x):", 
      "    count = 273.15 + x", 
      "    print count"
     ], 
     "language": "python", 
     "outputs": []
    }
   ]
  }
 ]
}