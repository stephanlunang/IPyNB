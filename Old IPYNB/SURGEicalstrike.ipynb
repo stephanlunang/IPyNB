{
 "metadata": {
  "name": "SURGEicalstrike"
 }, 
 "nbformat": 2, 
 "worksheets": [
  {
   "cells": [
    {
     "cell_type": "code", 
     "collapsed": false, 
     "input": [
      "%pylab inline", 
      "from numpy import *", 
      "from matplotlib.pyplot import *", 
      "from matplotlib import *", 
      "from pylab import *"
     ], 
     "language": "python", 
     "outputs": [
      {
       "output_type": "stream", 
       "stream": "stdout", 
       "text": [
        "", 
        "Welcome to pylab, a matplotlib-based Python environment [backend: module://IPython.zmq.pylab.backend_inline].", 
        "For more information, type 'help(pylab)'."
       ]
      }
     ], 
     "prompt_number": 23
    }, 
    {
     "cell_type": "code", 
     "collapsed": true, 
     "input": [
      "combo = recfromtxt ('combo.txt') "
     ], 
     "language": "python", 
     "outputs": [], 
     "prompt_number": 24
    }, 
    {
     "cell_type": "code", 
     "collapsed": false, 
     "input": [
      "print combo"
     ], 
     "language": "python", 
     "outputs": [
      {
       "output_type": "stream", 
       "stream": "stdout", 
       "text": [
        "[(0, 0, 1, 11, 92.0, 3, 1.43027, 2.46658, 185125.0, 119417.0, 2)", 
        " (0, 0, 1, 8, 69.0, 3, 1.34077, 2.63362, 197289.0, 98785.3, 2)", 
        " (0, 1, 1, 3, 105.5, 2, -1.30388, -inf, 8683.46, 10243.1, 2) ...,", 
        " (0, 0, 6817, 6, 41.5, 3, 1.71166, 5.48196, 84149.5, 42221.4, 2)", 
        " (0, 0, 6817, 7, 67.0, 3, 1.03889, 2.29329, 178630.0, 89281.4, 3)", 
        " (0, 1, 6817, 3, 108.0, 2, -58.7244, -inf, 215644.0, 144573.0, 2)]"
       ]
      }
     ], 
     "prompt_number": 25
    }, 
    {
     "cell_type": "code", 
     "collapsed": true, 
     "input": [
      "fn = []", 
      "tr = []", 
      "num = []", 
      "for i in range(len(combo)):", 
      "    fn.append(combo[i][2])", 
      "    tr.append(combo[i][3])", 
      "    num.append(i)"
     ], 
     "language": "python", 
     "outputs": [], 
     "prompt_number": 26
    }, 
    {
     "cell_type": "code", 
     "collapsed": false, 
     "input": [
      "figure(figsize=(10,10))", 
      "plot(num, tr)", 
      "xlabel('Number')", 
      "ylabel('Time Removed')", 
      "show()"
     ], 
     "language": "python", 
     "outputs": [
      {
       "output_type": "display_data", 
       "png": "[encoded data removed]"
      }
     ], 
     "prompt_number": 27
    }, 
    {
     "cell_type": "code", 
     "collapsed": false, 
     "input": [
      "high = 0", 
      "filenum = 0", 
      "for i in range(len(combo)):", 
      "    if (tr[i] > high):", 
      "        high = tr[i]", 
      "        filenum = fn[i]", 
      "        print i, filenum", 
      "print high, '\\t', filenum"
     ], 
     "language": "python", 
     "outputs": [
      {
       "output_type": "stream", 
       "stream": "stdout", 
       "text": [
        "0 1", 
        "6 3", 
        "18 8", 
        "89 39", 
        "153 58", 
        "563 196", 
        "3233 1126", 
        "7511 2659", 
        "7512 2660", 
        "317 \t2660"
       ]
      }
     ], 
     "prompt_number": 30
    }, 
    {
     "cell_type": "code", 
     "collapsed": false, 
     "input": [
      "ct = 0", 
      "for i in range(len(combo)):", 
      "    if (fn[i] == 2660):", 
      "        ct = ct + 1", 
      "print ct"
     ], 
     "language": "python", 
     "outputs": [
      {
       "output_type": "stream", 
       "stream": "stdout", 
       "text": [
        "1"
       ]
      }
     ], 
     "prompt_number": 29
    }, 
    {
     "cell_type": "code", 
     "collapsed": true, 
     "input": [], 
     "language": "python", 
     "outputs": [], 
     "prompt_number": 28
    }, 
    {
     "cell_type": "code", 
     "collapsed": true, 
     "input": [], 
     "language": "python", 
     "outputs": [], 
     "prompt_number": 28
    }, 
    {
     "cell_type": "code", 
     "collapsed": true, 
     "input": [], 
     "language": "python", 
     "outputs": [], 
     "prompt_number": 28
    }, 
    {
     "cell_type": "code", 
     "collapsed": true, 
     "input": [], 
     "language": "python", 
     "outputs": [], 
     "prompt_number": 28
    }, 
    {
     "cell_type": "code", 
     "collapsed": true, 
     "input": [], 
     "language": "python", 
     "outputs": [], 
     "prompt_number": 28
    }, 
    {
     "cell_type": "code", 
     "collapsed": true, 
     "input": [], 
     "language": "python", 
     "outputs": []
    }
   ]
  }
 ]
}