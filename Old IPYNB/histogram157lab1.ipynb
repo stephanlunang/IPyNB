{
 "metadata": {
  "name": "histogram157lab1"
 }, 
 "nbformat": 2, 
 "worksheets": [
  {
   "cells": [
    {
     "cell_type": "code", 
     "collapsed": false, 
     "input": [
      "%pylab inline", 
      "from numpy import *", 
      "from math import *", 
      "from matplotlib.pyplot import *", 
      "t_dat = recfromtxt ('Desktop/histdata.txt')[:,1]", 
      "avg1 = 6.12", 
      "avg2 = 6.4", 
      "print t_dat"
     ], 
     "language": "python", 
     "outputs": [
      {
       "output_type": "stream", 
       "stream": "stdout", 
       "text": [
        "", 
        "Welcome to pylab, a matplotlib-based Python environment [backend: module://IPython.zmq.pylab.backend_inline].", 
        "For more information, type 'help(pylab)'."
       ]
      }, 
      {
       "output_type": "stream", 
       "stream": "stdout", 
       "text": [
        "[10  9  3  4  7  4  6 10  6 11  4  4  7  4  8  3  8  5  8  5  9  7  1 10  9", 
        " 10  9  4  4  4  6  2  5  4  6  5  9  5 10  5  3  8  5  6  5 11 11  9  6  6]"
       ]
      }
     ], 
     "prompt_number": 2
    }, 
    {
     "cell_type": "code", 
     "collapsed": false, 
     "input": [
      "figure(figsize=(10,10))", 
      "n_bin,bin_edges = histogram(t_dat, bins = 11)", 
      "#Freq1 = 50*((avg1**bin_edges)*exp(-avg1))/(factorial(bin_edges))", 
      "print bin_edges", 
      "t_bin = bin_edges[:-1]", 
      "print t_bin", 
      "print n_bin", 
      "#errbar = sqrt(n_bin)", 
      "#errorbar (t_bin, n_bin, errbar, fmt = 'r.', label ='Data')", 
      "", 
      "#xlabel('Counts per time interval')", 
      "#ylabel('Frequency')", 
      "#title('Histogram of Background Data')"
     ], 
     "language": "python", 
     "outputs": [
      {
       "output_type": "stream", 
       "stream": "stdout", 
       "text": [
        "[  1.           1.90909091   2.81818182   3.72727273   4.63636364", 
        "   5.54545455   6.45454545   7.36363636   8.27272727   9.18181818", 
        "  10.09090909  11.        ]", 
        "[  1.           1.90909091   2.81818182   3.72727273   4.63636364", 
        "   5.54545455   6.45454545   7.36363636   8.27272727   9.18181818", 
        "  10.09090909]", 
        "[1 1 3 9 8 7 3 4 6 5 3]"
       ]
      }
     ], 
     "prompt_number": 3
    }, 
    {
     "cell_type": "code", 
     "collapsed": false, 
     "input": [
      "%pylab inline", 
      "from math import *", 
      "from numpy import *", 
      "from matplotlib.pyplot import *", 
      "t_dat = recfromtxt ('Desktop/histdata.txt')[:,1]", 
      "print t_dat[0:100]", 
      "", 
      "n_bin, bin_edges = histogram(t_dat, arange(13))", 
      "y,binEdges=histogram(t_dat,bins= arange(13))", 
      "t_bin = bin_edges[:-1]", 
      "bincenters = 0.5*(binEdges[1:]+binEdges[:-1])", 
      "menStd     = sqrt(y)", 
      "width=.5", 
      "bar(bincenters,y,width=width, color='r', yerr=menStd)", 
      "show()", 
      "", 
      "#figure(figsize=(10,10))", 
      "#hist(t_dat)", 
      "#xlabel('Counts per time interval')", 
      "#ylabel('Frequency')", 
      "#title('Histogram of Background Data')"
     ], 
     "language": "python", 
     "outputs": [
      {
       "output_type": "stream", 
       "stream": "stdout", 
       "text": [
        "", 
        "Welcome to pylab, a matplotlib-based Python environment [backend: module://IPython.zmq.pylab.backend_inline].", 
        "For more information, type 'help(pylab)'."
       ]
      }, 
      {
       "output_type": "stream", 
       "stream": "stdout", 
       "text": [
        "[10  9  3  4  7  4  6 10  6 11  4  4  7  4  8  3  8  5  8  5  9  7  1 10  9", 
        " 10  9  4  4  4  6  2  5  4  6  5  9  5 10  5  3  8  5  6  5 11 11  9  6  6]"
       ]
      }, 
      {
       "output_type": "display_data", 
       "png": "[encoded data removed]"
      }
     ], 
     "prompt_number": 10
    }, 
    {
     "cell_type": "code", 
     "collapsed": true, 
     "input": [], 
     "language": "python", 
     "outputs": []
    }
   ]
  }
 ]
}