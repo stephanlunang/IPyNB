{
 "metadata": {
  "name": "proton"
 }, 
 "nbformat": 2, 
 "worksheets": [
  {
   "cells": [
    {
     "cell_type": "code", 
     "collapsed": false, 
     "input": [
      "%pylab inline", 
      "import pyfits,glob", 
      "import scipy.ndimage as snd", 
      "import numpy as np", 
      "from matplotlib.pyplot import *", 
      "", 
      "pmass = 1.6726*10**-27    #proton mass [kg]", 
      "nmass = 1.6749*10**-27    #neutron mass [kg]", 
      "c = 299792458             #speed of light [m/s]", 
      "pc = 1.6*10**-19          #proton charge [C]"
     ], 
     "language": "python", 
     "outputs": [
      {
       "output_type": "stream", 
       "stream": "stdout", 
       "text": [
        "", 
        "Welcome to pylab, a matplotlib-based Python environment [backend: module://IPython.zmq.pylab.backend_inline].", 
        "For more information, type 'help(pylab)'."
       ]
      }
     ], 
     "prompt_number": 20
    }, 
    {
     "cell_type": "code", 
     "collapsed": true, 
     "input": [
      "speed = .1", 
      "gamma = 1/sqrt(1-speed**2)"
     ], 
     "language": "python", 
     "outputs": [], 
     "prompt_number": 41
    }, 
    {
     "cell_type": "code", 
     "collapsed": true, 
     "input": [
      "KE = pmass*(c**2)*(gamma-1)"
     ], 
     "language": "python", 
     "outputs": [], 
     "prompt_number": 42
    }, 
    {
     "cell_type": "code", 
     "collapsed": true, 
     "input": [
      "DS = 2.2*10**7 #Dielectric Strength [V/m]", 
      "dist = .33     #Distance Between Plates [m]", 
      "BV = DS * dist #Breakdown Volts [V]", 
      "PE = pc * BV"
     ], 
     "language": "python", 
     "outputs": [], 
     "prompt_number": 43
    }, 
    {
     "cell_type": "code", 
     "collapsed": false, 
     "input": [
      "print PE, 'J = Potential Energy\\n', KE, 'J = Kinetic Energy'"
     ], 
     "language": "python", 
     "outputs": [
      {
       "output_type": "stream", 
       "stream": "stdout", 
       "text": [
        "1.1616e-12 J = Potential Energy", 
        "7.57313564738e-13 J = Kinetic Energy"
       ]
      }
     ], 
     "prompt_number": 44
    }, 
    {
     "cell_type": "code", 
     "collapsed": false, 
     "input": [
      "if (PE > KE):", 
      "    print 'BLOCKED MOSUCKRA!'", 
      "else:", 
      "    print 'FALIURE'"
     ], 
     "language": "python", 
     "outputs": [
      {
       "output_type": "stream", 
       "stream": "stdout", 
       "text": [
        "BLOCKED MOSUCKRA!"
       ]
      }
     ], 
     "prompt_number": 45
    }, 
    {
     "cell_type": "code", 
     "collapsed": true, 
     "input": [], 
     "language": "python", 
     "outputs": [], 
     "prompt_number": 45
    }, 
    {
     "cell_type": "code", 
     "collapsed": true, 
     "input": [], 
     "language": "python", 
     "outputs": []
    }
   ]
  }
 ]
}